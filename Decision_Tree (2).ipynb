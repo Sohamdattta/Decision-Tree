{
  "nbformat": 4,
  "nbformat_minor": 0,
  "metadata": {
    "kernelspec": {
      "display_name": "Python 3",
      "language": "python",
      "name": "python3"
    },
    "language_info": {
      "codemirror_mode": {
        "name": "ipython",
        "version": 3
      },
      "file_extension": ".py",
      "mimetype": "text/x-python",
      "name": "python",
      "nbconvert_exporter": "python",
      "pygments_lexer": "ipython3",
      "version": "3.8.5"
    },
    "colab": {
      "name": "Decision Tree.ipynb",
      "provenance": [],
      "collapsed_sections": [
        "nZKdpxWNOgQ_"
      ]
    }
  },
  "cells": [
    {
      "cell_type": "code",
      "metadata": {
        "id": "ZPi5ODVdOgQj"
      },
      "source": [
        "\n",
        "import pandas as pd\n",
        "import numpy as np\n",
        "import matplotlib.pyplot as plt\n",
        "import seaborn as sns\n",
        "from sklearn import preprocessing\n",
        "\n",
        "%matplotlib inline"
      ],
      "execution_count": 1,
      "outputs": []
    },
    {
      "cell_type": "code",
      "metadata": {
        "id": "EjAW680hOgQj"
      },
      "source": [
        "\n",
        "import warnings\n",
        "warnings.filterwarnings(\"ignore\")"
      ],
      "execution_count": 2,
      "outputs": []
    },
    {
      "cell_type": "code",
      "metadata": {
        "id": "ld7-CDfwOgQk"
      },
      "source": [
        "\n",
        "df = pd.read_csv('/content/adult_dataset.csv')"
      ],
      "execution_count": 3,
      "outputs": []
    },
    {
      "cell_type": "code",
      "metadata": {
        "scrolled": true,
        "colab": {
          "base_uri": "https://localhost:8080/"
        },
        "id": "_OJ32bIoOgQk",
        "outputId": "80141eaf-fec6-4371-c153-ed96838dc8c2"
      },
      "source": [
        "\n",
        "df.info()"
      ],
      "execution_count": 4,
      "outputs": [
        {
          "output_type": "stream",
          "name": "stdout",
          "text": [
            "<class 'pandas.core.frame.DataFrame'>\n",
            "RangeIndex: 32561 entries, 0 to 32560\n",
            "Data columns (total 15 columns):\n",
            " #   Column          Non-Null Count  Dtype \n",
            "---  ------          --------------  ----- \n",
            " 0   age             32561 non-null  int64 \n",
            " 1   workclass       32561 non-null  object\n",
            " 2   fnlwgt          32561 non-null  int64 \n",
            " 3   education       32561 non-null  object\n",
            " 4   education.num   32561 non-null  int64 \n",
            " 5   marital.status  32561 non-null  object\n",
            " 6   occupation      32561 non-null  object\n",
            " 7   relationship    32561 non-null  object\n",
            " 8   race            32561 non-null  object\n",
            " 9   sex             32561 non-null  object\n",
            " 10  capital.gain    32561 non-null  int64 \n",
            " 11  capital.loss    32561 non-null  int64 \n",
            " 12  hours.per.week  32561 non-null  int64 \n",
            " 13  native.country  32561 non-null  object\n",
            " 14  income          32561 non-null  object\n",
            "dtypes: int64(6), object(9)\n",
            "memory usage: 3.7+ MB\n"
          ]
        }
      ]
    },
    {
      "cell_type": "code",
      "metadata": {
        "scrolled": false,
        "colab": {
          "base_uri": "https://localhost:8080/",
          "height": 206
        },
        "id": "4Pj2sHLqOgQl",
        "outputId": "a2342782-2299-4ba9-8add-1c0a3a749c0f"
      },
      "source": [
        "\n",
        "df.head()"
      ],
      "execution_count": 5,
      "outputs": [
        {
          "output_type": "execute_result",
          "data": {
            "text/html": [
              "<div>\n",
              "<style scoped>\n",
              "    .dataframe tbody tr th:only-of-type {\n",
              "        vertical-align: middle;\n",
              "    }\n",
              "\n",
              "    .dataframe tbody tr th {\n",
              "        vertical-align: top;\n",
              "    }\n",
              "\n",
              "    .dataframe thead th {\n",
              "        text-align: right;\n",
              "    }\n",
              "</style>\n",
              "<table border=\"1\" class=\"dataframe\">\n",
              "  <thead>\n",
              "    <tr style=\"text-align: right;\">\n",
              "      <th></th>\n",
              "      <th>age</th>\n",
              "      <th>workclass</th>\n",
              "      <th>fnlwgt</th>\n",
              "      <th>education</th>\n",
              "      <th>education.num</th>\n",
              "      <th>marital.status</th>\n",
              "      <th>occupation</th>\n",
              "      <th>relationship</th>\n",
              "      <th>race</th>\n",
              "      <th>sex</th>\n",
              "      <th>capital.gain</th>\n",
              "      <th>capital.loss</th>\n",
              "      <th>hours.per.week</th>\n",
              "      <th>native.country</th>\n",
              "      <th>income</th>\n",
              "    </tr>\n",
              "  </thead>\n",
              "  <tbody>\n",
              "    <tr>\n",
              "      <th>0</th>\n",
              "      <td>90</td>\n",
              "      <td>?</td>\n",
              "      <td>77053</td>\n",
              "      <td>HS-grad</td>\n",
              "      <td>9</td>\n",
              "      <td>Widowed</td>\n",
              "      <td>?</td>\n",
              "      <td>Not-in-family</td>\n",
              "      <td>White</td>\n",
              "      <td>Female</td>\n",
              "      <td>0</td>\n",
              "      <td>4356</td>\n",
              "      <td>40</td>\n",
              "      <td>United-States</td>\n",
              "      <td>&lt;=50K</td>\n",
              "    </tr>\n",
              "    <tr>\n",
              "      <th>1</th>\n",
              "      <td>82</td>\n",
              "      <td>Private</td>\n",
              "      <td>132870</td>\n",
              "      <td>HS-grad</td>\n",
              "      <td>9</td>\n",
              "      <td>Widowed</td>\n",
              "      <td>Exec-managerial</td>\n",
              "      <td>Not-in-family</td>\n",
              "      <td>White</td>\n",
              "      <td>Female</td>\n",
              "      <td>0</td>\n",
              "      <td>4356</td>\n",
              "      <td>18</td>\n",
              "      <td>United-States</td>\n",
              "      <td>&lt;=50K</td>\n",
              "    </tr>\n",
              "    <tr>\n",
              "      <th>2</th>\n",
              "      <td>66</td>\n",
              "      <td>?</td>\n",
              "      <td>186061</td>\n",
              "      <td>Some-college</td>\n",
              "      <td>10</td>\n",
              "      <td>Widowed</td>\n",
              "      <td>?</td>\n",
              "      <td>Unmarried</td>\n",
              "      <td>Black</td>\n",
              "      <td>Female</td>\n",
              "      <td>0</td>\n",
              "      <td>4356</td>\n",
              "      <td>40</td>\n",
              "      <td>United-States</td>\n",
              "      <td>&lt;=50K</td>\n",
              "    </tr>\n",
              "    <tr>\n",
              "      <th>3</th>\n",
              "      <td>54</td>\n",
              "      <td>Private</td>\n",
              "      <td>140359</td>\n",
              "      <td>7th-8th</td>\n",
              "      <td>4</td>\n",
              "      <td>Divorced</td>\n",
              "      <td>Machine-op-inspct</td>\n",
              "      <td>Unmarried</td>\n",
              "      <td>White</td>\n",
              "      <td>Female</td>\n",
              "      <td>0</td>\n",
              "      <td>3900</td>\n",
              "      <td>40</td>\n",
              "      <td>United-States</td>\n",
              "      <td>&lt;=50K</td>\n",
              "    </tr>\n",
              "    <tr>\n",
              "      <th>4</th>\n",
              "      <td>41</td>\n",
              "      <td>Private</td>\n",
              "      <td>264663</td>\n",
              "      <td>Some-college</td>\n",
              "      <td>10</td>\n",
              "      <td>Separated</td>\n",
              "      <td>Prof-specialty</td>\n",
              "      <td>Own-child</td>\n",
              "      <td>White</td>\n",
              "      <td>Female</td>\n",
              "      <td>0</td>\n",
              "      <td>3900</td>\n",
              "      <td>40</td>\n",
              "      <td>United-States</td>\n",
              "      <td>&lt;=50K</td>\n",
              "    </tr>\n",
              "  </tbody>\n",
              "</table>\n",
              "</div>"
            ],
            "text/plain": [
              "   age workclass  fnlwgt  ... hours.per.week  native.country income\n",
              "0   90         ?   77053  ...             40   United-States  <=50K\n",
              "1   82   Private  132870  ...             18   United-States  <=50K\n",
              "2   66         ?  186061  ...             40   United-States  <=50K\n",
              "3   54   Private  140359  ...             40   United-States  <=50K\n",
              "4   41   Private  264663  ...             40   United-States  <=50K\n",
              "\n",
              "[5 rows x 15 columns]"
            ]
          },
          "metadata": {},
          "execution_count": 5
        }
      ]
    },
    {
      "cell_type": "code",
      "metadata": {
        "colab": {
          "base_uri": "https://localhost:8080/"
        },
        "id": "_fC6Pzh3OgQm",
        "outputId": "914302b0-abd5-401f-ff96-31b80aae05d8"
      },
      "source": [
        "\n",
        "df_1 = (df['workclass']=='?').sum()\n",
        "\n",
        "df_1"
      ],
      "execution_count": 6,
      "outputs": [
        {
          "output_type": "execute_result",
          "data": {
            "text/plain": [
              "1836"
            ]
          },
          "metadata": {},
          "execution_count": 6
        }
      ]
    },
    {
      "cell_type": "code",
      "metadata": {
        "scrolled": true,
        "colab": {
          "base_uri": "https://localhost:8080/",
          "height": 206
        },
        "id": "mqEMfHi7OgQo",
        "outputId": "83a81fd0-b626-45ba-86d2-4951edd80944"
      },
      "source": [
        "\n",
        "df =df[df['workclass'] !='?']\n",
        "\n",
        "df.head()"
      ],
      "execution_count": 7,
      "outputs": [
        {
          "output_type": "execute_result",
          "data": {
            "text/html": [
              "<div>\n",
              "<style scoped>\n",
              "    .dataframe tbody tr th:only-of-type {\n",
              "        vertical-align: middle;\n",
              "    }\n",
              "\n",
              "    .dataframe tbody tr th {\n",
              "        vertical-align: top;\n",
              "    }\n",
              "\n",
              "    .dataframe thead th {\n",
              "        text-align: right;\n",
              "    }\n",
              "</style>\n",
              "<table border=\"1\" class=\"dataframe\">\n",
              "  <thead>\n",
              "    <tr style=\"text-align: right;\">\n",
              "      <th></th>\n",
              "      <th>age</th>\n",
              "      <th>workclass</th>\n",
              "      <th>fnlwgt</th>\n",
              "      <th>education</th>\n",
              "      <th>education.num</th>\n",
              "      <th>marital.status</th>\n",
              "      <th>occupation</th>\n",
              "      <th>relationship</th>\n",
              "      <th>race</th>\n",
              "      <th>sex</th>\n",
              "      <th>capital.gain</th>\n",
              "      <th>capital.loss</th>\n",
              "      <th>hours.per.week</th>\n",
              "      <th>native.country</th>\n",
              "      <th>income</th>\n",
              "    </tr>\n",
              "  </thead>\n",
              "  <tbody>\n",
              "    <tr>\n",
              "      <th>1</th>\n",
              "      <td>82</td>\n",
              "      <td>Private</td>\n",
              "      <td>132870</td>\n",
              "      <td>HS-grad</td>\n",
              "      <td>9</td>\n",
              "      <td>Widowed</td>\n",
              "      <td>Exec-managerial</td>\n",
              "      <td>Not-in-family</td>\n",
              "      <td>White</td>\n",
              "      <td>Female</td>\n",
              "      <td>0</td>\n",
              "      <td>4356</td>\n",
              "      <td>18</td>\n",
              "      <td>United-States</td>\n",
              "      <td>&lt;=50K</td>\n",
              "    </tr>\n",
              "    <tr>\n",
              "      <th>3</th>\n",
              "      <td>54</td>\n",
              "      <td>Private</td>\n",
              "      <td>140359</td>\n",
              "      <td>7th-8th</td>\n",
              "      <td>4</td>\n",
              "      <td>Divorced</td>\n",
              "      <td>Machine-op-inspct</td>\n",
              "      <td>Unmarried</td>\n",
              "      <td>White</td>\n",
              "      <td>Female</td>\n",
              "      <td>0</td>\n",
              "      <td>3900</td>\n",
              "      <td>40</td>\n",
              "      <td>United-States</td>\n",
              "      <td>&lt;=50K</td>\n",
              "    </tr>\n",
              "    <tr>\n",
              "      <th>4</th>\n",
              "      <td>41</td>\n",
              "      <td>Private</td>\n",
              "      <td>264663</td>\n",
              "      <td>Some-college</td>\n",
              "      <td>10</td>\n",
              "      <td>Separated</td>\n",
              "      <td>Prof-specialty</td>\n",
              "      <td>Own-child</td>\n",
              "      <td>White</td>\n",
              "      <td>Female</td>\n",
              "      <td>0</td>\n",
              "      <td>3900</td>\n",
              "      <td>40</td>\n",
              "      <td>United-States</td>\n",
              "      <td>&lt;=50K</td>\n",
              "    </tr>\n",
              "    <tr>\n",
              "      <th>5</th>\n",
              "      <td>34</td>\n",
              "      <td>Private</td>\n",
              "      <td>216864</td>\n",
              "      <td>HS-grad</td>\n",
              "      <td>9</td>\n",
              "      <td>Divorced</td>\n",
              "      <td>Other-service</td>\n",
              "      <td>Unmarried</td>\n",
              "      <td>White</td>\n",
              "      <td>Female</td>\n",
              "      <td>0</td>\n",
              "      <td>3770</td>\n",
              "      <td>45</td>\n",
              "      <td>United-States</td>\n",
              "      <td>&lt;=50K</td>\n",
              "    </tr>\n",
              "    <tr>\n",
              "      <th>6</th>\n",
              "      <td>38</td>\n",
              "      <td>Private</td>\n",
              "      <td>150601</td>\n",
              "      <td>10th</td>\n",
              "      <td>6</td>\n",
              "      <td>Separated</td>\n",
              "      <td>Adm-clerical</td>\n",
              "      <td>Unmarried</td>\n",
              "      <td>White</td>\n",
              "      <td>Male</td>\n",
              "      <td>0</td>\n",
              "      <td>3770</td>\n",
              "      <td>40</td>\n",
              "      <td>United-States</td>\n",
              "      <td>&lt;=50K</td>\n",
              "    </tr>\n",
              "  </tbody>\n",
              "</table>\n",
              "</div>"
            ],
            "text/plain": [
              "   age workclass  fnlwgt  ... hours.per.week  native.country income\n",
              "1   82   Private  132870  ...             18   United-States  <=50K\n",
              "3   54   Private  140359  ...             40   United-States  <=50K\n",
              "4   41   Private  264663  ...             40   United-States  <=50K\n",
              "5   34   Private  216864  ...             45   United-States  <=50K\n",
              "6   38   Private  150601  ...             40   United-States  <=50K\n",
              "\n",
              "[5 rows x 15 columns]"
            ]
          },
          "metadata": {},
          "execution_count": 7
        }
      ]
    },
    {
      "cell_type": "code",
      "metadata": {
        "colab": {
          "base_uri": "https://localhost:8080/"
        },
        "id": "Jo5digW7OgQo",
        "outputId": "2febad57-42bf-4fd8-f777-50dd04b376e8"
      },
      "source": [
        "\n",
        "df_categorical = df.select_dtypes(include=['object'])\n",
        "\n",
        "df_categorical.apply(lambda x: x=='?',axis=1).sum()"
      ],
      "execution_count": 8,
      "outputs": [
        {
          "output_type": "execute_result",
          "data": {
            "text/plain": [
              "workclass           0\n",
              "education           0\n",
              "marital.status      0\n",
              "occupation          7\n",
              "relationship        0\n",
              "race                0\n",
              "sex                 0\n",
              "native.country    556\n",
              "income              0\n",
              "dtype: int64"
            ]
          },
          "metadata": {},
          "execution_count": 8
        }
      ]
    },
    {
      "cell_type": "code",
      "metadata": {
        "id": "RDvYBiO0OgQp"
      },
      "source": [
        "\n",
        "df = df[df['occupation'] !='?']\n",
        "df = df[df['native.country'] !='?']"
      ],
      "execution_count": 9,
      "outputs": []
    },
    {
      "cell_type": "code",
      "metadata": {
        "scrolled": true,
        "colab": {
          "base_uri": "https://localhost:8080/"
        },
        "id": "8IydRSt5OgQq",
        "outputId": "0439b638-7847-42ce-c590-d6cc22258807"
      },
      "source": [
        "\n",
        "df.info()"
      ],
      "execution_count": 10,
      "outputs": [
        {
          "output_type": "stream",
          "name": "stdout",
          "text": [
            "<class 'pandas.core.frame.DataFrame'>\n",
            "Int64Index: 30162 entries, 1 to 32560\n",
            "Data columns (total 15 columns):\n",
            " #   Column          Non-Null Count  Dtype \n",
            "---  ------          --------------  ----- \n",
            " 0   age             30162 non-null  int64 \n",
            " 1   workclass       30162 non-null  object\n",
            " 2   fnlwgt          30162 non-null  int64 \n",
            " 3   education       30162 non-null  object\n",
            " 4   education.num   30162 non-null  int64 \n",
            " 5   marital.status  30162 non-null  object\n",
            " 6   occupation      30162 non-null  object\n",
            " 7   relationship    30162 non-null  object\n",
            " 8   race            30162 non-null  object\n",
            " 9   sex             30162 non-null  object\n",
            " 10  capital.gain    30162 non-null  int64 \n",
            " 11  capital.loss    30162 non-null  int64 \n",
            " 12  hours.per.week  30162 non-null  int64 \n",
            " 13  native.country  30162 non-null  object\n",
            " 14  income          30162 non-null  object\n",
            "dtypes: int64(6), object(9)\n",
            "memory usage: 3.7+ MB\n"
          ]
        }
      ]
    },
    {
      "cell_type": "code",
      "metadata": {
        "colab": {
          "base_uri": "https://localhost:8080/",
          "height": 206
        },
        "id": "MaHhepfBOgQr",
        "outputId": "086d4b20-b17d-44d7-f2a2-dfc0a8090e29"
      },
      "source": [
        "\n",
        "df_categorical = df.select_dtypes(include=['object'])\n",
        "\n",
        "df_categorical.head()"
      ],
      "execution_count": 11,
      "outputs": [
        {
          "output_type": "execute_result",
          "data": {
            "text/html": [
              "<div>\n",
              "<style scoped>\n",
              "    .dataframe tbody tr th:only-of-type {\n",
              "        vertical-align: middle;\n",
              "    }\n",
              "\n",
              "    .dataframe tbody tr th {\n",
              "        vertical-align: top;\n",
              "    }\n",
              "\n",
              "    .dataframe thead th {\n",
              "        text-align: right;\n",
              "    }\n",
              "</style>\n",
              "<table border=\"1\" class=\"dataframe\">\n",
              "  <thead>\n",
              "    <tr style=\"text-align: right;\">\n",
              "      <th></th>\n",
              "      <th>workclass</th>\n",
              "      <th>education</th>\n",
              "      <th>marital.status</th>\n",
              "      <th>occupation</th>\n",
              "      <th>relationship</th>\n",
              "      <th>race</th>\n",
              "      <th>sex</th>\n",
              "      <th>native.country</th>\n",
              "      <th>income</th>\n",
              "    </tr>\n",
              "  </thead>\n",
              "  <tbody>\n",
              "    <tr>\n",
              "      <th>1</th>\n",
              "      <td>Private</td>\n",
              "      <td>HS-grad</td>\n",
              "      <td>Widowed</td>\n",
              "      <td>Exec-managerial</td>\n",
              "      <td>Not-in-family</td>\n",
              "      <td>White</td>\n",
              "      <td>Female</td>\n",
              "      <td>United-States</td>\n",
              "      <td>&lt;=50K</td>\n",
              "    </tr>\n",
              "    <tr>\n",
              "      <th>3</th>\n",
              "      <td>Private</td>\n",
              "      <td>7th-8th</td>\n",
              "      <td>Divorced</td>\n",
              "      <td>Machine-op-inspct</td>\n",
              "      <td>Unmarried</td>\n",
              "      <td>White</td>\n",
              "      <td>Female</td>\n",
              "      <td>United-States</td>\n",
              "      <td>&lt;=50K</td>\n",
              "    </tr>\n",
              "    <tr>\n",
              "      <th>4</th>\n",
              "      <td>Private</td>\n",
              "      <td>Some-college</td>\n",
              "      <td>Separated</td>\n",
              "      <td>Prof-specialty</td>\n",
              "      <td>Own-child</td>\n",
              "      <td>White</td>\n",
              "      <td>Female</td>\n",
              "      <td>United-States</td>\n",
              "      <td>&lt;=50K</td>\n",
              "    </tr>\n",
              "    <tr>\n",
              "      <th>5</th>\n",
              "      <td>Private</td>\n",
              "      <td>HS-grad</td>\n",
              "      <td>Divorced</td>\n",
              "      <td>Other-service</td>\n",
              "      <td>Unmarried</td>\n",
              "      <td>White</td>\n",
              "      <td>Female</td>\n",
              "      <td>United-States</td>\n",
              "      <td>&lt;=50K</td>\n",
              "    </tr>\n",
              "    <tr>\n",
              "      <th>6</th>\n",
              "      <td>Private</td>\n",
              "      <td>10th</td>\n",
              "      <td>Separated</td>\n",
              "      <td>Adm-clerical</td>\n",
              "      <td>Unmarried</td>\n",
              "      <td>White</td>\n",
              "      <td>Male</td>\n",
              "      <td>United-States</td>\n",
              "      <td>&lt;=50K</td>\n",
              "    </tr>\n",
              "  </tbody>\n",
              "</table>\n",
              "</div>"
            ],
            "text/plain": [
              "  workclass     education marital.status  ...     sex native.country income\n",
              "1   Private       HS-grad        Widowed  ...  Female  United-States  <=50K\n",
              "3   Private       7th-8th       Divorced  ...  Female  United-States  <=50K\n",
              "4   Private  Some-college      Separated  ...  Female  United-States  <=50K\n",
              "5   Private       HS-grad       Divorced  ...  Female  United-States  <=50K\n",
              "6   Private          10th      Separated  ...    Male  United-States  <=50K\n",
              "\n",
              "[5 rows x 9 columns]"
            ]
          },
          "metadata": {},
          "execution_count": 11
        }
      ]
    },
    {
      "cell_type": "code",
      "metadata": {
        "colab": {
          "base_uri": "https://localhost:8080/",
          "height": 206
        },
        "id": "0iLaAh7xOgQt",
        "outputId": "fbd08ee1-42bb-4205-9524-dd7e3ba86c73"
      },
      "source": [
        "\n",
        "from sklearn import preprocessing\n",
        "le = preprocessing.LabelEncoder()\n",
        "\n",
        "\n",
        "\n",
        "df_categorical = df_categorical.apply(le.fit_transform)\n",
        "\n",
        "df_categorical.head()"
      ],
      "execution_count": 12,
      "outputs": [
        {
          "output_type": "execute_result",
          "data": {
            "text/html": [
              "<div>\n",
              "<style scoped>\n",
              "    .dataframe tbody tr th:only-of-type {\n",
              "        vertical-align: middle;\n",
              "    }\n",
              "\n",
              "    .dataframe tbody tr th {\n",
              "        vertical-align: top;\n",
              "    }\n",
              "\n",
              "    .dataframe thead th {\n",
              "        text-align: right;\n",
              "    }\n",
              "</style>\n",
              "<table border=\"1\" class=\"dataframe\">\n",
              "  <thead>\n",
              "    <tr style=\"text-align: right;\">\n",
              "      <th></th>\n",
              "      <th>workclass</th>\n",
              "      <th>education</th>\n",
              "      <th>marital.status</th>\n",
              "      <th>occupation</th>\n",
              "      <th>relationship</th>\n",
              "      <th>race</th>\n",
              "      <th>sex</th>\n",
              "      <th>native.country</th>\n",
              "      <th>income</th>\n",
              "    </tr>\n",
              "  </thead>\n",
              "  <tbody>\n",
              "    <tr>\n",
              "      <th>1</th>\n",
              "      <td>2</td>\n",
              "      <td>11</td>\n",
              "      <td>6</td>\n",
              "      <td>3</td>\n",
              "      <td>1</td>\n",
              "      <td>4</td>\n",
              "      <td>0</td>\n",
              "      <td>38</td>\n",
              "      <td>0</td>\n",
              "    </tr>\n",
              "    <tr>\n",
              "      <th>3</th>\n",
              "      <td>2</td>\n",
              "      <td>5</td>\n",
              "      <td>0</td>\n",
              "      <td>6</td>\n",
              "      <td>4</td>\n",
              "      <td>4</td>\n",
              "      <td>0</td>\n",
              "      <td>38</td>\n",
              "      <td>0</td>\n",
              "    </tr>\n",
              "    <tr>\n",
              "      <th>4</th>\n",
              "      <td>2</td>\n",
              "      <td>15</td>\n",
              "      <td>5</td>\n",
              "      <td>9</td>\n",
              "      <td>3</td>\n",
              "      <td>4</td>\n",
              "      <td>0</td>\n",
              "      <td>38</td>\n",
              "      <td>0</td>\n",
              "    </tr>\n",
              "    <tr>\n",
              "      <th>5</th>\n",
              "      <td>2</td>\n",
              "      <td>11</td>\n",
              "      <td>0</td>\n",
              "      <td>7</td>\n",
              "      <td>4</td>\n",
              "      <td>4</td>\n",
              "      <td>0</td>\n",
              "      <td>38</td>\n",
              "      <td>0</td>\n",
              "    </tr>\n",
              "    <tr>\n",
              "      <th>6</th>\n",
              "      <td>2</td>\n",
              "      <td>0</td>\n",
              "      <td>5</td>\n",
              "      <td>0</td>\n",
              "      <td>4</td>\n",
              "      <td>4</td>\n",
              "      <td>1</td>\n",
              "      <td>38</td>\n",
              "      <td>0</td>\n",
              "    </tr>\n",
              "  </tbody>\n",
              "</table>\n",
              "</div>"
            ],
            "text/plain": [
              "   workclass  education  marital.status  ...  sex  native.country  income\n",
              "1          2         11               6  ...    0              38       0\n",
              "3          2          5               0  ...    0              38       0\n",
              "4          2         15               5  ...    0              38       0\n",
              "5          2         11               0  ...    0              38       0\n",
              "6          2          0               5  ...    1              38       0\n",
              "\n",
              "[5 rows x 9 columns]"
            ]
          },
          "metadata": {},
          "execution_count": 12
        }
      ]
    },
    {
      "cell_type": "code",
      "metadata": {
        "scrolled": true,
        "colab": {
          "base_uri": "https://localhost:8080/",
          "height": 206
        },
        "id": "WPWmupLGOgQu",
        "outputId": "9e92c9f4-445a-4b68-ac7d-89696d338200"
      },
      "source": [
        "\n",
        "df =  df.drop(df_categorical.columns,axis=1)\n",
        "\n",
        "df = pd.concat([df,df_categorical],axis=1)\n",
        "\n",
        "\n",
        "df.head()"
      ],
      "execution_count": 13,
      "outputs": [
        {
          "output_type": "execute_result",
          "data": {
            "text/html": [
              "<div>\n",
              "<style scoped>\n",
              "    .dataframe tbody tr th:only-of-type {\n",
              "        vertical-align: middle;\n",
              "    }\n",
              "\n",
              "    .dataframe tbody tr th {\n",
              "        vertical-align: top;\n",
              "    }\n",
              "\n",
              "    .dataframe thead th {\n",
              "        text-align: right;\n",
              "    }\n",
              "</style>\n",
              "<table border=\"1\" class=\"dataframe\">\n",
              "  <thead>\n",
              "    <tr style=\"text-align: right;\">\n",
              "      <th></th>\n",
              "      <th>age</th>\n",
              "      <th>fnlwgt</th>\n",
              "      <th>education.num</th>\n",
              "      <th>capital.gain</th>\n",
              "      <th>capital.loss</th>\n",
              "      <th>hours.per.week</th>\n",
              "      <th>workclass</th>\n",
              "      <th>education</th>\n",
              "      <th>marital.status</th>\n",
              "      <th>occupation</th>\n",
              "      <th>relationship</th>\n",
              "      <th>race</th>\n",
              "      <th>sex</th>\n",
              "      <th>native.country</th>\n",
              "      <th>income</th>\n",
              "    </tr>\n",
              "  </thead>\n",
              "  <tbody>\n",
              "    <tr>\n",
              "      <th>1</th>\n",
              "      <td>82</td>\n",
              "      <td>132870</td>\n",
              "      <td>9</td>\n",
              "      <td>0</td>\n",
              "      <td>4356</td>\n",
              "      <td>18</td>\n",
              "      <td>2</td>\n",
              "      <td>11</td>\n",
              "      <td>6</td>\n",
              "      <td>3</td>\n",
              "      <td>1</td>\n",
              "      <td>4</td>\n",
              "      <td>0</td>\n",
              "      <td>38</td>\n",
              "      <td>0</td>\n",
              "    </tr>\n",
              "    <tr>\n",
              "      <th>3</th>\n",
              "      <td>54</td>\n",
              "      <td>140359</td>\n",
              "      <td>4</td>\n",
              "      <td>0</td>\n",
              "      <td>3900</td>\n",
              "      <td>40</td>\n",
              "      <td>2</td>\n",
              "      <td>5</td>\n",
              "      <td>0</td>\n",
              "      <td>6</td>\n",
              "      <td>4</td>\n",
              "      <td>4</td>\n",
              "      <td>0</td>\n",
              "      <td>38</td>\n",
              "      <td>0</td>\n",
              "    </tr>\n",
              "    <tr>\n",
              "      <th>4</th>\n",
              "      <td>41</td>\n",
              "      <td>264663</td>\n",
              "      <td>10</td>\n",
              "      <td>0</td>\n",
              "      <td>3900</td>\n",
              "      <td>40</td>\n",
              "      <td>2</td>\n",
              "      <td>15</td>\n",
              "      <td>5</td>\n",
              "      <td>9</td>\n",
              "      <td>3</td>\n",
              "      <td>4</td>\n",
              "      <td>0</td>\n",
              "      <td>38</td>\n",
              "      <td>0</td>\n",
              "    </tr>\n",
              "    <tr>\n",
              "      <th>5</th>\n",
              "      <td>34</td>\n",
              "      <td>216864</td>\n",
              "      <td>9</td>\n",
              "      <td>0</td>\n",
              "      <td>3770</td>\n",
              "      <td>45</td>\n",
              "      <td>2</td>\n",
              "      <td>11</td>\n",
              "      <td>0</td>\n",
              "      <td>7</td>\n",
              "      <td>4</td>\n",
              "      <td>4</td>\n",
              "      <td>0</td>\n",
              "      <td>38</td>\n",
              "      <td>0</td>\n",
              "    </tr>\n",
              "    <tr>\n",
              "      <th>6</th>\n",
              "      <td>38</td>\n",
              "      <td>150601</td>\n",
              "      <td>6</td>\n",
              "      <td>0</td>\n",
              "      <td>3770</td>\n",
              "      <td>40</td>\n",
              "      <td>2</td>\n",
              "      <td>0</td>\n",
              "      <td>5</td>\n",
              "      <td>0</td>\n",
              "      <td>4</td>\n",
              "      <td>4</td>\n",
              "      <td>1</td>\n",
              "      <td>38</td>\n",
              "      <td>0</td>\n",
              "    </tr>\n",
              "  </tbody>\n",
              "</table>\n",
              "</div>"
            ],
            "text/plain": [
              "   age  fnlwgt  education.num  capital.gain  ...  race  sex  native.country  income\n",
              "1   82  132870              9             0  ...     4    0              38       0\n",
              "3   54  140359              4             0  ...     4    0              38       0\n",
              "4   41  264663             10             0  ...     4    0              38       0\n",
              "5   34  216864              9             0  ...     4    0              38       0\n",
              "6   38  150601              6             0  ...     4    1              38       0\n",
              "\n",
              "[5 rows x 15 columns]"
            ]
          },
          "metadata": {},
          "execution_count": 13
        }
      ]
    },
    {
      "cell_type": "code",
      "metadata": {
        "scrolled": true,
        "colab": {
          "base_uri": "https://localhost:8080/"
        },
        "id": "eUGlZdAUOgQu",
        "outputId": "1e8c955d-0568-4db9-ca56-5dd5da284967"
      },
      "source": [
        "\n",
        "df.info()"
      ],
      "execution_count": 14,
      "outputs": [
        {
          "output_type": "stream",
          "name": "stdout",
          "text": [
            "<class 'pandas.core.frame.DataFrame'>\n",
            "Int64Index: 30162 entries, 1 to 32560\n",
            "Data columns (total 15 columns):\n",
            " #   Column          Non-Null Count  Dtype\n",
            "---  ------          --------------  -----\n",
            " 0   age             30162 non-null  int64\n",
            " 1   fnlwgt          30162 non-null  int64\n",
            " 2   education.num   30162 non-null  int64\n",
            " 3   capital.gain    30162 non-null  int64\n",
            " 4   capital.loss    30162 non-null  int64\n",
            " 5   hours.per.week  30162 non-null  int64\n",
            " 6   workclass       30162 non-null  int64\n",
            " 7   education       30162 non-null  int64\n",
            " 8   marital.status  30162 non-null  int64\n",
            " 9   occupation      30162 non-null  int64\n",
            " 10  relationship    30162 non-null  int64\n",
            " 11  race            30162 non-null  int64\n",
            " 12  sex             30162 non-null  int64\n",
            " 13  native.country  30162 non-null  int64\n",
            " 14  income          30162 non-null  int64\n",
            "dtypes: int64(15)\n",
            "memory usage: 3.7 MB\n"
          ]
        }
      ]
    },
    {
      "cell_type": "code",
      "metadata": {
        "id": "gAh6qzXAOgQv"
      },
      "source": [
        "\n",
        "df['income'] = df['income'].astype('category')"
      ],
      "execution_count": 15,
      "outputs": []
    },
    {
      "cell_type": "code",
      "metadata": {
        "id": "6oC5bT1aOgQw"
      },
      "source": [
        "\n",
        "from sklearn.model_selection import train_test_split"
      ],
      "execution_count": 16,
      "outputs": []
    },
    {
      "cell_type": "code",
      "metadata": {
        "id": "Rvn0SyyrOgQx"
      },
      "source": [
        "\n",
        "X = df.drop('income',axis=1)\n",
        "\n",
        "y = df['income']"
      ],
      "execution_count": 17,
      "outputs": []
    },
    {
      "cell_type": "code",
      "metadata": {
        "scrolled": true,
        "colab": {
          "base_uri": "https://localhost:8080/",
          "height": 206
        },
        "id": "4XdIY2dgOgQx",
        "outputId": "ff92e63f-5dd6-4130-c53a-5443494f4551"
      },
      "source": [
        "\n",
        "X_train, X_test, y_train, y_test = train_test_split(X,y,test_size=0.30,random_state=99)\n",
        "\n",
        "X_train.head()"
      ],
      "execution_count": 18,
      "outputs": [
        {
          "output_type": "execute_result",
          "data": {
            "text/html": [
              "<div>\n",
              "<style scoped>\n",
              "    .dataframe tbody tr th:only-of-type {\n",
              "        vertical-align: middle;\n",
              "    }\n",
              "\n",
              "    .dataframe tbody tr th {\n",
              "        vertical-align: top;\n",
              "    }\n",
              "\n",
              "    .dataframe thead th {\n",
              "        text-align: right;\n",
              "    }\n",
              "</style>\n",
              "<table border=\"1\" class=\"dataframe\">\n",
              "  <thead>\n",
              "    <tr style=\"text-align: right;\">\n",
              "      <th></th>\n",
              "      <th>age</th>\n",
              "      <th>fnlwgt</th>\n",
              "      <th>education.num</th>\n",
              "      <th>capital.gain</th>\n",
              "      <th>capital.loss</th>\n",
              "      <th>hours.per.week</th>\n",
              "      <th>workclass</th>\n",
              "      <th>education</th>\n",
              "      <th>marital.status</th>\n",
              "      <th>occupation</th>\n",
              "      <th>relationship</th>\n",
              "      <th>race</th>\n",
              "      <th>sex</th>\n",
              "      <th>native.country</th>\n",
              "    </tr>\n",
              "  </thead>\n",
              "  <tbody>\n",
              "    <tr>\n",
              "      <th>24351</th>\n",
              "      <td>42</td>\n",
              "      <td>289636</td>\n",
              "      <td>9</td>\n",
              "      <td>0</td>\n",
              "      <td>0</td>\n",
              "      <td>46</td>\n",
              "      <td>2</td>\n",
              "      <td>11</td>\n",
              "      <td>2</td>\n",
              "      <td>13</td>\n",
              "      <td>0</td>\n",
              "      <td>4</td>\n",
              "      <td>1</td>\n",
              "      <td>38</td>\n",
              "    </tr>\n",
              "    <tr>\n",
              "      <th>15626</th>\n",
              "      <td>37</td>\n",
              "      <td>52465</td>\n",
              "      <td>9</td>\n",
              "      <td>0</td>\n",
              "      <td>0</td>\n",
              "      <td>40</td>\n",
              "      <td>1</td>\n",
              "      <td>11</td>\n",
              "      <td>4</td>\n",
              "      <td>7</td>\n",
              "      <td>1</td>\n",
              "      <td>4</td>\n",
              "      <td>1</td>\n",
              "      <td>38</td>\n",
              "    </tr>\n",
              "    <tr>\n",
              "      <th>4347</th>\n",
              "      <td>38</td>\n",
              "      <td>125933</td>\n",
              "      <td>14</td>\n",
              "      <td>0</td>\n",
              "      <td>0</td>\n",
              "      <td>40</td>\n",
              "      <td>0</td>\n",
              "      <td>12</td>\n",
              "      <td>2</td>\n",
              "      <td>9</td>\n",
              "      <td>0</td>\n",
              "      <td>4</td>\n",
              "      <td>1</td>\n",
              "      <td>19</td>\n",
              "    </tr>\n",
              "    <tr>\n",
              "      <th>23972</th>\n",
              "      <td>44</td>\n",
              "      <td>183829</td>\n",
              "      <td>13</td>\n",
              "      <td>0</td>\n",
              "      <td>0</td>\n",
              "      <td>38</td>\n",
              "      <td>5</td>\n",
              "      <td>9</td>\n",
              "      <td>4</td>\n",
              "      <td>0</td>\n",
              "      <td>1</td>\n",
              "      <td>4</td>\n",
              "      <td>0</td>\n",
              "      <td>38</td>\n",
              "    </tr>\n",
              "    <tr>\n",
              "      <th>26843</th>\n",
              "      <td>35</td>\n",
              "      <td>198841</td>\n",
              "      <td>11</td>\n",
              "      <td>0</td>\n",
              "      <td>0</td>\n",
              "      <td>35</td>\n",
              "      <td>2</td>\n",
              "      <td>8</td>\n",
              "      <td>0</td>\n",
              "      <td>12</td>\n",
              "      <td>3</td>\n",
              "      <td>4</td>\n",
              "      <td>1</td>\n",
              "      <td>38</td>\n",
              "    </tr>\n",
              "  </tbody>\n",
              "</table>\n",
              "</div>"
            ],
            "text/plain": [
              "       age  fnlwgt  education.num  ...  race  sex  native.country\n",
              "24351   42  289636              9  ...     4    1              38\n",
              "15626   37   52465              9  ...     4    1              38\n",
              "4347    38  125933             14  ...     4    1              19\n",
              "23972   44  183829             13  ...     4    0              38\n",
              "26843   35  198841             11  ...     4    1              38\n",
              "\n",
              "[5 rows x 14 columns]"
            ]
          },
          "metadata": {},
          "execution_count": 18
        }
      ]
    },
    {
      "cell_type": "code",
      "metadata": {
        "id": "6S_hmLlZOgQx",
        "colab": {
          "base_uri": "https://localhost:8080/"
        },
        "outputId": "b9b4e9f4-3c18-4cc9-c00b-b59ce94390eb"
      },
      "source": [
        "\n",
        "from sklearn.tree import DecisionTreeClassifier\n",
        "dt_default =DecisionTreeClassifier(max_depth=5)\n",
        "\n",
        "dt_default.fit(X_train,y_train)"
      ],
      "execution_count": 19,
      "outputs": [
        {
          "output_type": "execute_result",
          "data": {
            "text/plain": [
              "DecisionTreeClassifier(max_depth=5)"
            ]
          },
          "metadata": {},
          "execution_count": 19
        }
      ]
    },
    {
      "cell_type": "code",
      "metadata": {
        "id": "04HZ77tuOgQy",
        "colab": {
          "base_uri": "https://localhost:8080/"
        },
        "outputId": "74157fef-0b39-4fe7-e886-0dc0aef41bed"
      },
      "source": [
        "\n",
        "from sklearn.metrics import classification_report,confusion_matrix,accuracy_score\n",
        "\n",
        "\n",
        "y_pred_default =  dt_default.predict(X_test)\n",
        "\n",
        "from sklearn.metrics import classification_report,confusion_matrix,accuracy_score\n",
        "\n",
        "y_pred_default = dt_default.predict(X_test)\n",
        "\n",
        "print(classification_report(y_test,y_pred_default))"
      ],
      "execution_count": 20,
      "outputs": [
        {
          "output_type": "stream",
          "name": "stdout",
          "text": [
            "              precision    recall  f1-score   support\n",
            "\n",
            "           0       0.86      0.95      0.91      6867\n",
            "           1       0.78      0.52      0.63      2182\n",
            "\n",
            "    accuracy                           0.85      9049\n",
            "   macro avg       0.82      0.74      0.77      9049\n",
            "weighted avg       0.84      0.85      0.84      9049\n",
            "\n"
          ]
        }
      ]
    },
    {
      "cell_type": "code",
      "metadata": {
        "id": "-4P6WQseOgQz",
        "colab": {
          "base_uri": "https://localhost:8080/"
        },
        "outputId": "55ab0085-1212-40c5-b724-d42a8764dc49"
      },
      "source": [
        "\n",
        "print(confusion_matrix(y_test,y_pred_default))\n",
        "\n",
        "print(accuracy_score(y_test,y_pred_default))"
      ],
      "execution_count": 21,
      "outputs": [
        {
          "output_type": "stream",
          "name": "stdout",
          "text": [
            "[[6553  314]\n",
            " [1039 1143]]\n",
            "0.8504807161012267\n"
          ]
        }
      ]
    },
    {
      "cell_type": "code",
      "metadata": {
        "id": "JwtKvBR4OgQz",
        "colab": {
          "base_uri": "https://localhost:8080/",
          "height": 296
        },
        "outputId": "32d79f70-43a0-408e-d919-08f7ea3d5e30"
      },
      "source": [
        "\n",
        "from sklearn.metrics import plot_confusion_matrix\n",
        "\n",
        "plot_confusion_matrix(dt_default,X_test, y_test)"
      ],
      "execution_count": 22,
      "outputs": [
        {
          "output_type": "execute_result",
          "data": {
            "text/plain": [
              "<sklearn.metrics._plot.confusion_matrix.ConfusionMatrixDisplay at 0x7efd2205e650>"
            ]
          },
          "metadata": {},
          "execution_count": 22
        },
        {
          "output_type": "display_data",
          "data": {
            "image/png": "[encoded data removed]",
            "text/plain": [
              "<Figure size 432x288 with 2 Axes>"
            ]
          },
          "metadata": {
            "needs_background": "light"
          }
        }
      ]
    },
    {
      "cell_type": "markdown",
      "metadata": {
        "id": "XrummmskOgQ0"
      },
      "source": [
        "<hr>"
      ]
    },
    {
      "cell_type": "code",
      "metadata": {
        "id": "lM-M0hUyOgQ0"
      },
      "source": [
        "\n",
        "from sklearn import tree\n",
        "\n",
        "\n",
        "features =list(df.columns[1:])\n",
        "\n",
        "\n",
        "cls=list(df.columns[:])\n"
      ],
      "execution_count": 23,
      "outputs": []
    },
    {
      "cell_type": "code",
      "metadata": {
        "id": "xxdd0g6oOgQ0",
        "colab": {
          "base_uri": "https://localhost:8080/"
        },
        "outputId": "c51b70b5-fbd7-454b-cfff-2ef502827fa5"
      },
      "source": [
        "\n",
        "\n",
        "print(features)\n",
        "\n",
        "print(cls)"
      ],
      "execution_count": 24,
      "outputs": [
        {
          "output_type": "stream",
          "name": "stdout",
          "text": [
            "['fnlwgt', 'education.num', 'capital.gain', 'capital.loss', 'hours.per.week', 'workclass', 'education', 'marital.status', 'occupation', 'relationship', 'race', 'sex', 'native.country', 'income']\n",
            "['age', 'fnlwgt', 'education.num', 'capital.gain', 'capital.loss', 'hours.per.week', 'workclass', 'education', 'marital.status', 'occupation', 'relationship', 'race', 'sex', 'native.country', 'income']\n"
          ]
        }
      ]
    },
    {
      "cell_type": "code",
      "metadata": {
        "id": "EWq3vjOoOgQ1",
        "colab": {
          "base_uri": "https://localhost:8080/",
          "height": 1000
        },
        "outputId": "fbd2dca1-024c-4e4c-fa48-f94bb01b9ba5"
      },
      "source": [
        "\n",
        "plt.figure(figsize=(25,10))\n",
        "tree.plot_tree(dt_default,filled=True)\n",
        "\n"
      ],
      "execution_count": 25,
      "outputs": [
        {
          "output_type": "execute_result",
          "data": {
            "text/plain": [
              "[Text(768.8352272727273, 498.3, 'X[10] <= 0.5\\ngini = 0.377\\nsamples = 21113\\nvalue = [15787, 5326]'),\n",
              " Text(396.3068181818182, 407.70000000000005, 'X[2] <= 12.5\\ngini = 0.497\\nsamples = 8825\\nvalue = [4768, 4057]'),\n",
              " Text(206.07954545454544, 317.1, 'X[3] <= 5095.5\\ngini = 0.449\\nsamples = 6177\\nvalue = [4074, 2103]'),\n",
              " Text(126.81818181818181, 226.5, 'X[2] <= 8.5\\ngini = 0.425\\nsamples = 5860\\nvalue = [4068, 1792]'),\n",
              " Text(63.40909090909091, 135.89999999999998, 'X[0] <= 37.5\\ngini = 0.193\\nsamples = 926\\nvalue = [826, 100]'),\n",
              " Text(31.704545454545453, 45.299999999999955, 'gini = 0.08\\nsamples = 311\\nvalue = [298, 13]'),\n",
              " Text(95.11363636363636, 45.299999999999955, 'gini = 0.243\\nsamples = 615\\nvalue = [528, 87]'),\n",
              " Text(190.22727272727272, 135.89999999999998, 'X[4] <= 1846.0\\ngini = 0.451\\nsamples = 4934\\nvalue = [3242, 1692]'),\n",
              " Text(158.52272727272725, 45.299999999999955, 'gini = 0.439\\nsamples = 4729\\nvalue = [3192, 1537]'),\n",
              " Text(221.9318181818182, 45.299999999999955, 'gini = 0.369\\nsamples = 205\\nvalue = [50, 155]'),\n",
              " Text(285.34090909090907, 226.5, 'X[0] <= 62.5\\ngini = 0.037\\nsamples = 317\\nvalue = [6, 311]'),\n",
              " Text(253.63636363636363, 135.89999999999998, 'gini = 0.0\\nsamples = 292\\nvalue = [0, 292]'),\n",
              " Text(317.0454545454545, 135.89999999999998, 'X[9] <= 6.5\\ngini = 0.365\\nsamples = 25\\nvalue = [6, 19]'),\n",
              " Text(285.34090909090907, 45.299999999999955, 'gini = 0.208\\nsamples = 17\\nvalue = [2, 15]'),\n",
              " Text(348.75, 45.299999999999955, 'gini = 0.5\\nsamples = 8\\nvalue = [4, 4]'),\n",
              " Text(586.5340909090909, 317.1, 'X[3] <= 5095.5\\ngini = 0.387\\nsamples = 2648\\nvalue = [694, 1954]'),\n",
              " Text(507.27272727272725, 226.5, 'X[4] <= 1782.5\\ngini = 0.43\\nsamples = 2216\\nvalue = [693, 1523]'),\n",
              " Text(443.8636363636364, 135.89999999999998, 'X[5] <= 31.0\\ngini = 0.453\\nsamples = 1983\\nvalue = [687, 1296]'),\n",
              " Text(412.1590909090909, 45.299999999999955, 'gini = 0.421\\nsamples = 123\\nvalue = [86, 37]'),\n",
              " Text(475.5681818181818, 45.299999999999955, 'gini = 0.437\\nsamples = 1860\\nvalue = [601, 1259]'),\n",
              " Text(570.6818181818181, 135.89999999999998, 'X[9] <= 12.5\\ngini = 0.05\\nsamples = 233\\nvalue = [6, 227]'),\n",
              " Text(538.9772727272727, 45.299999999999955, 'gini = 0.042\\nsamples = 231\\nvalue = [5, 226]'),\n",
              " Text(602.3863636363636, 45.299999999999955, 'gini = 0.5\\nsamples = 2\\nvalue = [1, 1]'),\n",
              " Text(665.7954545454545, 226.5, 'X[0] <= 84.0\\ngini = 0.005\\nsamples = 432\\nvalue = [1, 431]'),\n",
              " Text(634.090909090909, 135.89999999999998, 'gini = 0.0\\nsamples = 429\\nvalue = [0, 429]'),\n",
              " Text(697.5, 135.89999999999998, 'X[7] <= 10.5\\ngini = 0.444\\nsamples = 3\\nvalue = [1, 2]'),\n",
              " Text(665.7954545454545, 45.299999999999955, 'gini = 0.0\\nsamples = 1\\nvalue = [1, 0]'),\n",
              " Text(729.2045454545454, 45.299999999999955, 'gini = 0.0\\nsamples = 2\\nvalue = [0, 2]'),\n",
              " Text(1141.3636363636363, 407.70000000000005, 'X[3] <= 7073.5\\ngini = 0.185\\nsamples = 12288\\nvalue = [11019, 1269]'),\n",
              " Text(1014.5454545454545, 317.1, 'X[10] <= 4.5\\ngini = 0.152\\nsamples = 12007\\nvalue = [11011, 996]'),\n",
              " Text(887.7272727272727, 226.5, 'X[2] <= 13.5\\ngini = 0.098\\nsamples = 11106\\nvalue = [10535, 571]'),\n",
              " Text(824.3181818181818, 135.89999999999998, 'X[5] <= 44.5\\ngini = 0.075\\nsamples = 10505\\nvalue = [10095, 410]'),\n",
              " Text(792.6136363636364, 45.299999999999955, 'gini = 0.045\\nsamples = 8549\\nvalue = [8350, 199]'),\n",
              " Text(856.0227272727273, 45.299999999999955, 'gini = 0.192\\nsamples = 1956\\nvalue = [1745, 211]'),\n",
              " Text(951.1363636363636, 135.89999999999998, 'X[0] <= 31.5\\ngini = 0.392\\nsamples = 601\\nvalue = [440, 161]'),\n",
              " Text(919.4318181818181, 45.299999999999955, 'gini = 0.128\\nsamples = 145\\nvalue = [135, 10]'),\n",
              " Text(982.840909090909, 45.299999999999955, 'gini = 0.443\\nsamples = 456\\nvalue = [305, 151]'),\n",
              " Text(1141.3636363636363, 226.5, 'X[2] <= 12.5\\ngini = 0.498\\nsamples = 901\\nvalue = [476, 425]'),\n",
              " Text(1077.9545454545455, 135.89999999999998, 'X[9] <= 3.5\\ngini = 0.468\\nsamples = 641\\nvalue = [401, 240]'),\n",
              " Text(1046.25, 45.299999999999955, 'gini = 0.499\\nsamples = 302\\nvalue = [159, 143]'),\n",
              " Text(1109.6590909090908, 45.299999999999955, 'gini = 0.409\\nsamples = 339\\nvalue = [242, 97]'),\n",
              " Text(1204.7727272727273, 135.89999999999998, 'X[0] <= 25.5\\ngini = 0.411\\nsamples = 260\\nvalue = [75, 185]'),\n",
              " Text(1173.0681818181818, 45.299999999999955, 'gini = 0.219\\nsamples = 8\\nvalue = [7, 1]'),\n",
              " Text(1236.4772727272727, 45.299999999999955, 'gini = 0.394\\nsamples = 252\\nvalue = [68, 184]'),\n",
              " Text(1268.181818181818, 317.1, 'X[1] <= 25115.5\\ngini = 0.055\\nsamples = 281\\nvalue = [8, 273]'),\n",
              " Text(1236.4772727272727, 226.5, 'gini = 0.0\\nsamples = 2\\nvalue = [2, 0]'),\n",
              " Text(1299.8863636363635, 226.5, 'X[0] <= 19.5\\ngini = 0.042\\nsamples = 279\\nvalue = [6, 273]'),\n",
              " Text(1268.181818181818, 135.89999999999998, 'gini = 0.0\\nsamples = 1\\nvalue = [1, 0]'),\n",
              " Text(1331.590909090909, 135.89999999999998, 'X[2] <= 3.5\\ngini = 0.035\\nsamples = 278\\nvalue = [5, 273]'),\n",
              " Text(1299.8863636363635, 45.299999999999955, 'gini = 0.0\\nsamples = 1\\nvalue = [1, 0]'),\n",
              " Text(1363.2954545454545, 45.299999999999955, 'gini = 0.028\\nsamples = 277\\nvalue = [4, 273]')]"
            ]
          },
          "metadata": {},
          "execution_count": 25
        },
        {
          "output_type": "display_data",
          "data": {
            "image/png": "[encoded data removed]",
            "text/plain": [
              "<Figure size 1800x720 with 1 Axes>"
            ]
          },
          "metadata": {
            "needs_background": "light"
          }
        }
      ]
    },
    {
      "cell_type": "code",
      "metadata": {
        "id": "djb8jybIOgQ1",
        "colab": {
          "base_uri": "https://localhost:8080/",
          "height": 122
        },
        "outputId": "04ce7747-75ca-4c64-98fc-96f5e63253e1"
      },
      "source": [
        "\n",
        "text_representation = (tree.export_text(dt_default))\n",
        "\n",
        "\n",
        "text_representation "
      ],
      "execution_count": 26,
      "outputs": [
        {
          "output_type": "execute_result",
          "data": {
            "application/vnd.google.colaboratory.intrinsic+json": {
              "type": "string"
            },
            "text/plain": [
              "'|--- feature_10 <= 0.50\\n|   |--- feature_2 <= 12.50\\n|   |   |--- feature_3 <= 5095.50\\n|   |   |   |--- feature_2 <= 8.50\\n|   |   |   |   |--- feature_0 <= 37.50\\n|   |   |   |   |   |--- class: 0\\n|   |   |   |   |--- feature_0 >  37.50\\n|   |   |   |   |   |--- class: 0\\n|   |   |   |--- feature_2 >  8.50\\n|   |   |   |   |--- feature_4 <= 1846.00\\n|   |   |   |   |   |--- class: 0\\n|   |   |   |   |--- feature_4 >  1846.00\\n|   |   |   |   |   |--- class: 1\\n|   |   |--- feature_3 >  5095.50\\n|   |   |   |--- feature_0 <= 62.50\\n|   |   |   |   |--- class: 1\\n|   |   |   |--- feature_0 >  62.50\\n|   |   |   |   |--- feature_9 <= 6.50\\n|   |   |   |   |   |--- class: 1\\n|   |   |   |   |--- feature_9 >  6.50\\n|   |   |   |   |   |--- class: 0\\n|   |--- feature_2 >  12.50\\n|   |   |--- feature_3 <= 5095.50\\n|   |   |   |--- feature_4 <= 1782.50\\n|   |   |   |   |--- feature_5 <= 31.00\\n|   |   |   |   |   |--- class: 0\\n|   |   |   |   |--- feature_5 >  31.00\\n|   |   |   |   |   |--- class: 1\\n|   |   |   |--- feature_4 >  1782.50\\n|   |   |   |   |--- feature_9 <= 12.50\\n|   |   |   |   |   |--- class: 1\\n|   |   |   |   |--- feature_9 >  12.50\\n|   |   |   |   |   |--- class: 0\\n|   |   |--- feature_3 >  5095.50\\n|   |   |   |--- feature_0 <= 84.00\\n|   |   |   |   |--- class: 1\\n|   |   |   |--- feature_0 >  84.00\\n|   |   |   |   |--- feature_7 <= 10.50\\n|   |   |   |   |   |--- class: 0\\n|   |   |   |   |--- feature_7 >  10.50\\n|   |   |   |   |   |--- class: 1\\n|--- feature_10 >  0.50\\n|   |--- feature_3 <= 7073.50\\n|   |   |--- feature_10 <= 4.50\\n|   |   |   |--- feature_2 <= 13.50\\n|   |   |   |   |--- feature_5 <= 44.50\\n|   |   |   |   |   |--- class: 0\\n|   |   |   |   |--- feature_5 >  44.50\\n|   |   |   |   |   |--- class: 0\\n|   |   |   |--- feature_2 >  13.50\\n|   |   |   |   |--- feature_0 <= 31.50\\n|   |   |   |   |   |--- class: 0\\n|   |   |   |   |--- feature_0 >  31.50\\n|   |   |   |   |   |--- class: 0\\n|   |   |--- feature_10 >  4.50\\n|   |   |   |--- feature_2 <= 12.50\\n|   |   |   |   |--- feature_9 <= 3.50\\n|   |   |   |   |   |--- class: 0\\n|   |   |   |   |--- feature_9 >  3.50\\n|   |   |   |   |   |--- class: 0\\n|   |   |   |--- feature_2 >  12.50\\n|   |   |   |   |--- feature_0 <= 25.50\\n|   |   |   |   |   |--- class: 0\\n|   |   |   |   |--- feature_0 >  25.50\\n|   |   |   |   |   |--- class: 1\\n|   |--- feature_3 >  7073.50\\n|   |   |--- feature_1 <= 25115.50\\n|   |   |   |--- class: 0\\n|   |   |--- feature_1 >  25115.50\\n|   |   |   |--- feature_0 <= 19.50\\n|   |   |   |   |--- class: 0\\n|   |   |   |--- feature_0 >  19.50\\n|   |   |   |   |--- feature_2 <= 3.50\\n|   |   |   |   |   |--- class: 0\\n|   |   |   |   |--- feature_2 >  3.50\\n|   |   |   |   |   |--- class: 1\\n'"
            ]
          },
          "metadata": {},
          "execution_count": 26
        }
      ]
    },
    {
      "cell_type": "code",
      "metadata": {
        "id": "I6EJIL-oOgQ3",
        "colab": {
          "base_uri": "https://localhost:8080/"
        },
        "outputId": "47090521-9ed2-4034-e50e-1d1d7561d8a3"
      },
      "source": [
        "\n",
        "from sklearn.model_selection import KFold\n",
        "from sklearn.model_selection import GridSearchCV\n",
        "\n",
        "\n",
        "n_folds =5\n",
        "parameters = {'max_depth': range(1, 40)}\n",
        "\n",
        "dtree = DecisionTreeClassifier(criterion = \"gini\",random_state = 100) \n",
        "                               \n",
        "\n",
        "tree =  GridSearchCV(dtree, parameters,cv=n_folds,scoring=\"accuracy\",return_train_score=True) \n",
        "                   \n",
        "                   \n",
        "\n",
        "tree.fit(X_train, y_train)"
      ],
      "execution_count": 27,
      "outputs": [
        {
          "output_type": "execute_result",
          "data": {
            "text/plain": [
              "GridSearchCV(cv=5, estimator=DecisionTreeClassifier(random_state=100),\n",
              "             param_grid={'max_depth': range(1, 40)}, return_train_score=True,\n",
              "             scoring='accuracy')"
            ]
          },
          "metadata": {},
          "execution_count": 27
        }
      ]
    },
    {
      "cell_type": "code",
      "metadata": {
        "id": "UOoa71sIOgQ4",
        "colab": {
          "base_uri": "https://localhost:8080/",
          "height": 313
        },
        "outputId": "fb4694b3-0bac-421d-d88d-90b490816639"
      },
      "source": [
        "\n",
        "scores =tree.cv_results_\n",
        "\n",
        "pd.DataFrame(scores).head()"
      ],
      "execution_count": 28,
      "outputs": [
        {
          "output_type": "execute_result",
          "data": {
            "text/html": [
              "<div>\n",
              "<style scoped>\n",
              "    .dataframe tbody tr th:only-of-type {\n",
              "        vertical-align: middle;\n",
              "    }\n",
              "\n",
              "    .dataframe tbody tr th {\n",
              "        vertical-align: top;\n",
              "    }\n",
              "\n",
              "    .dataframe thead th {\n",
              "        text-align: right;\n",
              "    }\n",
              "</style>\n",
              "<table border=\"1\" class=\"dataframe\">\n",
              "  <thead>\n",
              "    <tr style=\"text-align: right;\">\n",
              "      <th></th>\n",
              "      <th>mean_fit_time</th>\n",
              "      <th>std_fit_time</th>\n",
              "      <th>mean_score_time</th>\n",
              "      <th>std_score_time</th>\n",
              "      <th>param_max_depth</th>\n",
              "      <th>params</th>\n",
              "      <th>split0_test_score</th>\n",
              "      <th>split1_test_score</th>\n",
              "      <th>split2_test_score</th>\n",
              "      <th>split3_test_score</th>\n",
              "      <th>split4_test_score</th>\n",
              "      <th>mean_test_score</th>\n",
              "      <th>std_test_score</th>\n",
              "      <th>rank_test_score</th>\n",
              "      <th>split0_train_score</th>\n",
              "      <th>split1_train_score</th>\n",
              "      <th>split2_train_score</th>\n",
              "      <th>split3_train_score</th>\n",
              "      <th>split4_train_score</th>\n",
              "      <th>mean_train_score</th>\n",
              "      <th>std_train_score</th>\n",
              "    </tr>\n",
              "  </thead>\n",
              "  <tbody>\n",
              "    <tr>\n",
              "      <th>0</th>\n",
              "      <td>0.014887</td>\n",
              "      <td>0.003406</td>\n",
              "      <td>0.003938</td>\n",
              "      <td>0.000898</td>\n",
              "      <td>1</td>\n",
              "      <td>{'max_depth': 1}</td>\n",
              "      <td>0.747810</td>\n",
              "      <td>0.747810</td>\n",
              "      <td>0.747573</td>\n",
              "      <td>0.747750</td>\n",
              "      <td>0.747750</td>\n",
              "      <td>0.747738</td>\n",
              "      <td>0.000087</td>\n",
              "      <td>39</td>\n",
              "      <td>0.747721</td>\n",
              "      <td>0.747721</td>\n",
              "      <td>0.747780</td>\n",
              "      <td>0.747735</td>\n",
              "      <td>0.747735</td>\n",
              "      <td>0.747738</td>\n",
              "      <td>0.000022</td>\n",
              "    </tr>\n",
              "    <tr>\n",
              "      <th>1</th>\n",
              "      <td>0.018476</td>\n",
              "      <td>0.000494</td>\n",
              "      <td>0.003490</td>\n",
              "      <td>0.000298</td>\n",
              "      <td>2</td>\n",
              "      <td>{'max_depth': 2}</td>\n",
              "      <td>0.812219</td>\n",
              "      <td>0.818612</td>\n",
              "      <td>0.820507</td>\n",
              "      <td>0.825675</td>\n",
              "      <td>0.822833</td>\n",
              "      <td>0.819969</td>\n",
              "      <td>0.004538</td>\n",
              "      <td>16</td>\n",
              "      <td>0.821906</td>\n",
              "      <td>0.820308</td>\n",
              "      <td>0.819834</td>\n",
              "      <td>0.818542</td>\n",
              "      <td>0.819253</td>\n",
              "      <td>0.819969</td>\n",
              "      <td>0.001134</td>\n",
              "    </tr>\n",
              "    <tr>\n",
              "      <th>2</th>\n",
              "      <td>0.024385</td>\n",
              "      <td>0.001199</td>\n",
              "      <td>0.003398</td>\n",
              "      <td>0.000416</td>\n",
              "      <td>3</td>\n",
              "      <td>{'max_depth': 3}</td>\n",
              "      <td>0.828558</td>\n",
              "      <td>0.834241</td>\n",
              "      <td>0.834478</td>\n",
              "      <td>0.836570</td>\n",
              "      <td>0.837518</td>\n",
              "      <td>0.834273</td>\n",
              "      <td>0.003115</td>\n",
              "      <td>12</td>\n",
              "      <td>0.835998</td>\n",
              "      <td>0.834577</td>\n",
              "      <td>0.834458</td>\n",
              "      <td>0.833758</td>\n",
              "      <td>0.833758</td>\n",
              "      <td>0.834510</td>\n",
              "      <td>0.000819</td>\n",
              "    </tr>\n",
              "    <tr>\n",
              "      <th>3</th>\n",
              "      <td>0.030227</td>\n",
              "      <td>0.001496</td>\n",
              "      <td>0.003382</td>\n",
              "      <td>0.000222</td>\n",
              "      <td>4</td>\n",
              "      <td>{'max_depth': 4}</td>\n",
              "      <td>0.832583</td>\n",
              "      <td>0.840871</td>\n",
              "      <td>0.842529</td>\n",
              "      <td>0.842729</td>\n",
              "      <td>0.842255</td>\n",
              "      <td>0.840193</td>\n",
              "      <td>0.003860</td>\n",
              "      <td>9</td>\n",
              "      <td>0.841622</td>\n",
              "      <td>0.839491</td>\n",
              "      <td>0.844997</td>\n",
              "      <td>0.838908</td>\n",
              "      <td>0.845421</td>\n",
              "      <td>0.842088</td>\n",
              "      <td>0.002707</td>\n",
              "    </tr>\n",
              "    <tr>\n",
              "      <th>4</th>\n",
              "      <td>0.036328</td>\n",
              "      <td>0.001107</td>\n",
              "      <td>0.003332</td>\n",
              "      <td>0.000092</td>\n",
              "      <td>5</td>\n",
              "      <td>{'max_depth': 5}</td>\n",
              "      <td>0.834241</td>\n",
              "      <td>0.844897</td>\n",
              "      <td>0.847265</td>\n",
              "      <td>0.842729</td>\n",
              "      <td>0.847466</td>\n",
              "      <td>0.843319</td>\n",
              "      <td>0.004858</td>\n",
              "      <td>7</td>\n",
              "      <td>0.844287</td>\n",
              "      <td>0.844227</td>\n",
              "      <td>0.849319</td>\n",
              "      <td>0.841572</td>\n",
              "      <td>0.849683</td>\n",
              "      <td>0.845818</td>\n",
              "      <td>0.003165</td>\n",
              "    </tr>\n",
              "  </tbody>\n",
              "</table>\n",
              "</div>"
            ],
            "text/plain": [
              "   mean_fit_time  std_fit_time  ...  mean_train_score  std_train_score\n",
              "0       0.014887      0.003406  ...          0.747738         0.000022\n",
              "1       0.018476      0.000494  ...          0.819969         0.001134\n",
              "2       0.024385      0.001199  ...          0.834510         0.000819\n",
              "3       0.030227      0.001496  ...          0.842088         0.002707\n",
              "4       0.036328      0.001107  ...          0.845818         0.003165\n",
              "\n",
              "[5 rows x 21 columns]"
            ]
          },
          "metadata": {},
          "execution_count": 28
        }
      ]
    },
    {
      "cell_type": "code",
      "metadata": {
        "id": "9qNIyQtPOgQ4",
        "colab": {
          "base_uri": "https://localhost:8080/",
          "height": 280
        },
        "outputId": "7dc3642d-eec2-4aef-f8ae-98499823f08d"
      },
      "source": [
        "\n",
        "plt.figure()\n",
        "plt.plot(scores[\"param_max_depth\"],scores[\"mean_train_score\"],label=\"training accuracy\")\n",
        "plt.plot(scores[\"param_max_depth\"],scores[\"mean_test_score\"],label=\"test accuracy\")\n",
        "plt.xlabel(\"max_depth\")\n",
        "plt.ylabel(\"Accuracy\")\n",
        "plt.legend()\n",
        "plt.show()\n",
        "\n",
        "\n"
      ],
      "execution_count": 29,
      "outputs": [
        {
          "output_type": "display_data",
          "data": {
            "image/png": "[encoded data removed]",
            "text/plain": [
              "<Figure size 432x288 with 1 Axes>"
            ]
          },
          "metadata": {
            "needs_background": "light"
          }
        }
      ]
    },
    {
      "cell_type": "code",
      "metadata": {
        "id": "fmXz3nNMOgQ5",
        "colab": {
          "base_uri": "https://localhost:8080/"
        },
        "outputId": "a7298701-7f52-47bc-867d-d2caefe025b7"
      },
      "source": [
        "\n",
        "\n",
        "n_folds =5\n",
        "\n",
        "parameters = {'min_samples_leaf': range(5, 200, 20)}\n",
        "\n",
        "dtree = DecisionTreeClassifier(criterion = \"gini\",random_state = 100) \n",
        "                               \n",
        "\n",
        "\n",
        "tree =  GridSearchCV(dtree, parameters, cv=n_folds,   scoring=\"accuracy\",return_train_score=True) \n",
        "                   \n",
        "                 \n",
        "tree.fit(X_train, y_train)"
      ],
      "execution_count": 30,
      "outputs": [
        {
          "output_type": "execute_result",
          "data": {
            "text/plain": [
              "GridSearchCV(cv=5, estimator=DecisionTreeClassifier(random_state=100),\n",
              "             param_grid={'min_samples_leaf': range(5, 200, 20)},\n",
              "             return_train_score=True, scoring='accuracy')"
            ]
          },
          "metadata": {},
          "execution_count": 30
        }
      ]
    },
    {
      "cell_type": "code",
      "metadata": {
        "scrolled": true,
        "id": "r32NTjXjOgQ6",
        "colab": {
          "base_uri": "https://localhost:8080/",
          "height": 313
        },
        "outputId": "7c623331-a5ea-4d53-b316-5310c7dcbc47"
      },
      "source": [
        "\n",
        "scores =  tree.cv_results_\n",
        "\n",
        "\n",
        "pd.DataFrame(scores).head()"
      ],
      "execution_count": 31,
      "outputs": [
        {
          "output_type": "execute_result",
          "data": {
            "text/html": [
              "<div>\n",
              "<style scoped>\n",
              "    .dataframe tbody tr th:only-of-type {\n",
              "        vertical-align: middle;\n",
              "    }\n",
              "\n",
              "    .dataframe tbody tr th {\n",
              "        vertical-align: top;\n",
              "    }\n",
              "\n",
              "    .dataframe thead th {\n",
              "        text-align: right;\n",
              "    }\n",
              "</style>\n",
              "<table border=\"1\" class=\"dataframe\">\n",
              "  <thead>\n",
              "    <tr style=\"text-align: right;\">\n",
              "      <th></th>\n",
              "      <th>mean_fit_time</th>\n",
              "      <th>std_fit_time</th>\n",
              "      <th>mean_score_time</th>\n",
              "      <th>std_score_time</th>\n",
              "      <th>param_min_samples_leaf</th>\n",
              "      <th>params</th>\n",
              "      <th>split0_test_score</th>\n",
              "      <th>split1_test_score</th>\n",
              "      <th>split2_test_score</th>\n",
              "      <th>split3_test_score</th>\n",
              "      <th>split4_test_score</th>\n",
              "      <th>mean_test_score</th>\n",
              "      <th>std_test_score</th>\n",
              "      <th>rank_test_score</th>\n",
              "      <th>split0_train_score</th>\n",
              "      <th>split1_train_score</th>\n",
              "      <th>split2_train_score</th>\n",
              "      <th>split3_train_score</th>\n",
              "      <th>split4_train_score</th>\n",
              "      <th>mean_train_score</th>\n",
              "      <th>std_train_score</th>\n",
              "    </tr>\n",
              "  </thead>\n",
              "  <tbody>\n",
              "    <tr>\n",
              "      <th>0</th>\n",
              "      <td>0.081596</td>\n",
              "      <td>0.001823</td>\n",
              "      <td>0.004738</td>\n",
              "      <td>0.001238</td>\n",
              "      <td>5</td>\n",
              "      <td>{'min_samples_leaf': 5}</td>\n",
              "      <td>0.825716</td>\n",
              "      <td>0.827848</td>\n",
              "      <td>0.819560</td>\n",
              "      <td>0.826149</td>\n",
              "      <td>0.818806</td>\n",
              "      <td>0.823616</td>\n",
              "      <td>0.003696</td>\n",
              "      <td>10</td>\n",
              "      <td>0.915335</td>\n",
              "      <td>0.911782</td>\n",
              "      <td>0.915335</td>\n",
              "      <td>0.912083</td>\n",
              "      <td>0.913149</td>\n",
              "      <td>0.913537</td>\n",
              "      <td>0.001537</td>\n",
              "    </tr>\n",
              "    <tr>\n",
              "      <th>1</th>\n",
              "      <td>0.067685</td>\n",
              "      <td>0.000971</td>\n",
              "      <td>0.003591</td>\n",
              "      <td>0.000066</td>\n",
              "      <td>25</td>\n",
              "      <td>{'min_samples_leaf': 25}</td>\n",
              "      <td>0.841819</td>\n",
              "      <td>0.851291</td>\n",
              "      <td>0.839451</td>\n",
              "      <td>0.842018</td>\n",
              "      <td>0.849360</td>\n",
              "      <td>0.844788</td>\n",
              "      <td>0.004651</td>\n",
              "      <td>6</td>\n",
              "      <td>0.868028</td>\n",
              "      <td>0.869686</td>\n",
              "      <td>0.871226</td>\n",
              "      <td>0.867503</td>\n",
              "      <td>0.869872</td>\n",
              "      <td>0.869263</td>\n",
              "      <td>0.001343</td>\n",
              "    </tr>\n",
              "    <tr>\n",
              "      <th>2</th>\n",
              "      <td>0.062502</td>\n",
              "      <td>0.002647</td>\n",
              "      <td>0.003606</td>\n",
              "      <td>0.000107</td>\n",
              "      <td>45</td>\n",
              "      <td>{'min_samples_leaf': 45}</td>\n",
              "      <td>0.843003</td>\n",
              "      <td>0.849159</td>\n",
              "      <td>0.846555</td>\n",
              "      <td>0.851018</td>\n",
              "      <td>0.851729</td>\n",
              "      <td>0.848293</td>\n",
              "      <td>0.003194</td>\n",
              "      <td>1</td>\n",
              "      <td>0.861042</td>\n",
              "      <td>0.860154</td>\n",
              "      <td>0.862581</td>\n",
              "      <td>0.860399</td>\n",
              "      <td>0.863714</td>\n",
              "      <td>0.861578</td>\n",
              "      <td>0.001362</td>\n",
              "    </tr>\n",
              "    <tr>\n",
              "      <th>3</th>\n",
              "      <td>0.061054</td>\n",
              "      <td>0.001783</td>\n",
              "      <td>0.003547</td>\n",
              "      <td>0.000132</td>\n",
              "      <td>65</td>\n",
              "      <td>{'min_samples_leaf': 65}</td>\n",
              "      <td>0.841108</td>\n",
              "      <td>0.852711</td>\n",
              "      <td>0.845371</td>\n",
              "      <td>0.851492</td>\n",
              "      <td>0.838465</td>\n",
              "      <td>0.845830</td>\n",
              "      <td>0.005589</td>\n",
              "      <td>2</td>\n",
              "      <td>0.857549</td>\n",
              "      <td>0.855773</td>\n",
              "      <td>0.858555</td>\n",
              "      <td>0.855189</td>\n",
              "      <td>0.858149</td>\n",
              "      <td>0.857043</td>\n",
              "      <td>0.001328</td>\n",
              "    </tr>\n",
              "    <tr>\n",
              "      <th>4</th>\n",
              "      <td>0.056459</td>\n",
              "      <td>0.001963</td>\n",
              "      <td>0.003415</td>\n",
              "      <td>0.000024</td>\n",
              "      <td>85</td>\n",
              "      <td>{'min_samples_leaf': 85}</td>\n",
              "      <td>0.838030</td>\n",
              "      <td>0.849159</td>\n",
              "      <td>0.845371</td>\n",
              "      <td>0.851492</td>\n",
              "      <td>0.842018</td>\n",
              "      <td>0.845214</td>\n",
              "      <td>0.004834</td>\n",
              "      <td>3</td>\n",
              "      <td>0.853108</td>\n",
              "      <td>0.853108</td>\n",
              "      <td>0.855654</td>\n",
              "      <td>0.854005</td>\n",
              "      <td>0.854597</td>\n",
              "      <td>0.854095</td>\n",
              "      <td>0.000963</td>\n",
              "    </tr>\n",
              "  </tbody>\n",
              "</table>\n",
              "</div>"
            ],
            "text/plain": [
              "   mean_fit_time  std_fit_time  ...  mean_train_score  std_train_score\n",
              "0       0.081596      0.001823  ...          0.913537         0.001537\n",
              "1       0.067685      0.000971  ...          0.869263         0.001343\n",
              "2       0.062502      0.002647  ...          0.861578         0.001362\n",
              "3       0.061054      0.001783  ...          0.857043         0.001328\n",
              "4       0.056459      0.001963  ...          0.854095         0.000963\n",
              "\n",
              "[5 rows x 21 columns]"
            ]
          },
          "metadata": {},
          "execution_count": 31
        }
      ]
    },
    {
      "cell_type": "code",
      "metadata": {
        "id": "xPWyCbPPOgQ6",
        "colab": {
          "base_uri": "https://localhost:8080/",
          "height": 280
        },
        "outputId": "d49e6ef0-3960-4670-c412-5e8fc83a6b3d"
      },
      "source": [
        "\n",
        "plt.figure()\n",
        "plt.plot(scores[\"param_min_samples_leaf\"], \n",
        "         scores[\"mean_train_score\"], \n",
        "         label=\"training accuracy\")\n",
        "plt.plot(scores[\"param_min_samples_leaf\"], \n",
        "         scores[\"mean_test_score\"], \n",
        "         label=\"test accuracy\")\n",
        "plt.xlabel(\"min_samples_leaf\")\n",
        "plt.ylabel(\"Accuracy\")\n",
        "plt.legend()\n",
        "plt.show()\n",
        "\n",
        "\n",
        "\n",
        "\n"
      ],
      "execution_count": 32,
      "outputs": [
        {
          "output_type": "display_data",
          "data": {
            "image/png": "[encoded data removed]",
            "text/plain": [
              "<Figure size 432x288 with 1 Axes>"
            ]
          },
          "metadata": {
            "needs_background": "light"
          }
        }
      ]
    },
    {
      "cell_type": "code",
      "metadata": {
        "id": "wXdT5fKVOgQ7",
        "colab": {
          "base_uri": "https://localhost:8080/"
        },
        "outputId": "b90cd765-0970-4c42-9cd8-63ae07e4ebcc"
      },
      "source": [
        "\n",
        "n_folds =5\n",
        "\n",
        "parameters ={'min_samples_split': range(5, 200, 20)}\n",
        "\n",
        "dtree = DecisionTreeClassifier(criterion = \"gini\", random_state = 100) \n",
        "                              \n",
        "\n",
        "tree =GridSearchCV(dtree, parameters, cv=n_folds, scoring=\"accuracy\",return_train_score=True) \n",
        "                   \n",
        "                   \n",
        "\n",
        "tree.fit(X_train, y_train)"
      ],
      "execution_count": 33,
      "outputs": [
        {
          "output_type": "execute_result",
          "data": {
            "text/plain": [
              "GridSearchCV(cv=5, estimator=DecisionTreeClassifier(random_state=100),\n",
              "             param_grid={'min_samples_split': range(5, 200, 20)},\n",
              "             return_train_score=True, scoring='accuracy')"
            ]
          },
          "metadata": {},
          "execution_count": 33
        }
      ]
    },
    {
      "cell_type": "code",
      "metadata": {
        "id": "pIwouUosOgQ7",
        "colab": {
          "base_uri": "https://localhost:8080/",
          "height": 313
        },
        "outputId": "b061960a-0488-4cc4-ec2c-b17a4366751a"
      },
      "source": [
        "\n",
        "scores = tree.cv_results_\n",
        "\n",
        " \n",
        "pd.DataFrame(scores).head()\n"
      ],
      "execution_count": 34,
      "outputs": [
        {
          "output_type": "execute_result",
          "data": {
            "text/html": [
              "<div>\n",
              "<style scoped>\n",
              "    .dataframe tbody tr th:only-of-type {\n",
              "        vertical-align: middle;\n",
              "    }\n",
              "\n",
              "    .dataframe tbody tr th {\n",
              "        vertical-align: top;\n",
              "    }\n",
              "\n",
              "    .dataframe thead th {\n",
              "        text-align: right;\n",
              "    }\n",
              "</style>\n",
              "<table border=\"1\" class=\"dataframe\">\n",
              "  <thead>\n",
              "    <tr style=\"text-align: right;\">\n",
              "      <th></th>\n",
              "      <th>mean_fit_time</th>\n",
              "      <th>std_fit_time</th>\n",
              "      <th>mean_score_time</th>\n",
              "      <th>std_score_time</th>\n",
              "      <th>param_min_samples_split</th>\n",
              "      <th>params</th>\n",
              "      <th>split0_test_score</th>\n",
              "      <th>split1_test_score</th>\n",
              "      <th>split2_test_score</th>\n",
              "      <th>split3_test_score</th>\n",
              "      <th>split4_test_score</th>\n",
              "      <th>mean_test_score</th>\n",
              "      <th>std_test_score</th>\n",
              "      <th>rank_test_score</th>\n",
              "      <th>split0_train_score</th>\n",
              "      <th>split1_train_score</th>\n",
              "      <th>split2_train_score</th>\n",
              "      <th>split3_train_score</th>\n",
              "      <th>split4_train_score</th>\n",
              "      <th>mean_train_score</th>\n",
              "      <th>std_train_score</th>\n",
              "    </tr>\n",
              "  </thead>\n",
              "  <tbody>\n",
              "    <tr>\n",
              "      <th>0</th>\n",
              "      <td>0.088738</td>\n",
              "      <td>0.002683</td>\n",
              "      <td>0.003924</td>\n",
              "      <td>0.000115</td>\n",
              "      <td>5</td>\n",
              "      <td>{'min_samples_split': 5}</td>\n",
              "      <td>0.811982</td>\n",
              "      <td>0.811035</td>\n",
              "      <td>0.818376</td>\n",
              "      <td>0.811701</td>\n",
              "      <td>0.808385</td>\n",
              "      <td>0.812296</td>\n",
              "      <td>0.003296</td>\n",
              "      <td>10</td>\n",
              "      <td>0.969094</td>\n",
              "      <td>0.969331</td>\n",
              "      <td>0.969509</td>\n",
              "      <td>0.970458</td>\n",
              "      <td>0.971227</td>\n",
              "      <td>0.969924</td>\n",
              "      <td>0.000800</td>\n",
              "    </tr>\n",
              "    <tr>\n",
              "      <th>1</th>\n",
              "      <td>0.084145</td>\n",
              "      <td>0.001029</td>\n",
              "      <td>0.004875</td>\n",
              "      <td>0.002150</td>\n",
              "      <td>25</td>\n",
              "      <td>{'min_samples_split': 25}</td>\n",
              "      <td>0.825006</td>\n",
              "      <td>0.825243</td>\n",
              "      <td>0.830215</td>\n",
              "      <td>0.822596</td>\n",
              "      <td>0.827570</td>\n",
              "      <td>0.826126</td>\n",
              "      <td>0.002581</td>\n",
              "      <td>9</td>\n",
              "      <td>0.906927</td>\n",
              "      <td>0.906513</td>\n",
              "      <td>0.906986</td>\n",
              "      <td>0.906577</td>\n",
              "      <td>0.911847</td>\n",
              "      <td>0.907770</td>\n",
              "      <td>0.002047</td>\n",
              "    </tr>\n",
              "    <tr>\n",
              "      <th>2</th>\n",
              "      <td>0.080827</td>\n",
              "      <td>0.002230</td>\n",
              "      <td>0.003752</td>\n",
              "      <td>0.000143</td>\n",
              "      <td>45</td>\n",
              "      <td>{'min_samples_split': 45}</td>\n",
              "      <td>0.835188</td>\n",
              "      <td>0.839687</td>\n",
              "      <td>0.830215</td>\n",
              "      <td>0.827333</td>\n",
              "      <td>0.838702</td>\n",
              "      <td>0.834225</td>\n",
              "      <td>0.004783</td>\n",
              "      <td>8</td>\n",
              "      <td>0.890527</td>\n",
              "      <td>0.890053</td>\n",
              "      <td>0.889816</td>\n",
              "      <td>0.888521</td>\n",
              "      <td>0.896335</td>\n",
              "      <td>0.891051</td>\n",
              "      <td>0.002725</td>\n",
              "    </tr>\n",
              "    <tr>\n",
              "      <th>3</th>\n",
              "      <td>0.081302</td>\n",
              "      <td>0.001939</td>\n",
              "      <td>0.004097</td>\n",
              "      <td>0.000819</td>\n",
              "      <td>65</td>\n",
              "      <td>{'min_samples_split': 65}</td>\n",
              "      <td>0.839451</td>\n",
              "      <td>0.845844</td>\n",
              "      <td>0.837556</td>\n",
              "      <td>0.833728</td>\n",
              "      <td>0.843913</td>\n",
              "      <td>0.840098</td>\n",
              "      <td>0.004360</td>\n",
              "      <td>7</td>\n",
              "      <td>0.883896</td>\n",
              "      <td>0.882238</td>\n",
              "      <td>0.883245</td>\n",
              "      <td>0.880765</td>\n",
              "      <td>0.884258</td>\n",
              "      <td>0.882880</td>\n",
              "      <td>0.001261</td>\n",
              "    </tr>\n",
              "    <tr>\n",
              "      <th>4</th>\n",
              "      <td>0.076677</td>\n",
              "      <td>0.001695</td>\n",
              "      <td>0.003580</td>\n",
              "      <td>0.000056</td>\n",
              "      <td>85</td>\n",
              "      <td>{'min_samples_split': 85}</td>\n",
              "      <td>0.846081</td>\n",
              "      <td>0.853895</td>\n",
              "      <td>0.838977</td>\n",
              "      <td>0.837281</td>\n",
              "      <td>0.845334</td>\n",
              "      <td>0.844314</td>\n",
              "      <td>0.005898</td>\n",
              "      <td>6</td>\n",
              "      <td>0.877383</td>\n",
              "      <td>0.877442</td>\n",
              "      <td>0.879515</td>\n",
              "      <td>0.875081</td>\n",
              "      <td>0.880706</td>\n",
              "      <td>0.878025</td>\n",
              "      <td>0.001940</td>\n",
              "    </tr>\n",
              "  </tbody>\n",
              "</table>\n",
              "</div>"
            ],
            "text/plain": [
              "   mean_fit_time  std_fit_time  ...  mean_train_score  std_train_score\n",
              "0       0.088738      0.002683  ...          0.969924         0.000800\n",
              "1       0.084145      0.001029  ...          0.907770         0.002047\n",
              "2       0.080827      0.002230  ...          0.891051         0.002725\n",
              "3       0.081302      0.001939  ...          0.882880         0.001261\n",
              "4       0.076677      0.001695  ...          0.878025         0.001940\n",
              "\n",
              "[5 rows x 21 columns]"
            ]
          },
          "metadata": {},
          "execution_count": 34
        }
      ]
    },
    {
      "cell_type": "code",
      "metadata": {
        "id": "5WarlmUtOgQ7",
        "colab": {
          "base_uri": "https://localhost:8080/",
          "height": 280
        },
        "outputId": "206dffc6-3ef3-4f73-bdcb-cfed0b55dacd"
      },
      "source": [
        "\n",
        "plt.figure()\n",
        "plt.plot(scores[\"param_min_samples_split\"], \n",
        "         scores[\"mean_train_score\"], \n",
        "         label=\"training accuracy\")\n",
        "plt.plot(scores[\"param_min_samples_split\"], \n",
        "         scores[\"mean_test_score\"], \n",
        "         label=\"test accuracy\")\n",
        "plt.xlabel(\"min_samples_split\")\n",
        "plt.ylabel(\"Accuracy\")\n",
        "plt.legend()\n",
        "plt.show()\n",
        "\n",
        "\n",
        "\n"
      ],
      "execution_count": 35,
      "outputs": [
        {
          "output_type": "display_data",
          "data": {
            "image/png": "[encoded data removed]",
            "text/plain": [
              "<Figure size 432x288 with 1 Axes>"
            ]
          },
          "metadata": {
            "needs_background": "light"
          }
        }
      ]
    },
    {
      "cell_type": "code",
      "metadata": {
        "id": "8et613oFOgQ8",
        "colab": {
          "base_uri": "https://localhost:8080/"
        },
        "outputId": "199451d5-3388-4eca-ac83-074dae30c2ed"
      },
      "source": [
        "\n",
        "param_grid = {\n",
        "    'max_depth': range(5, 15, 5),\n",
        "    'min_samples_leaf': range(50, 150, 50),\n",
        "    'min_samples_split': range(50, 150, 50),\n",
        "    'criterion': [\"entropy\", \"gini\"]\n",
        "}\n",
        "\n",
        "\n",
        "n_folds = 5\n",
        "\n",
        "dtree =DecisionTreeClassifier()\n",
        "\n",
        "\n",
        "grid_search =  GridSearchCV(estimator = dtree, param_grid = param_grid,cv = n_folds, verbose = 1) \n",
        "                          \n",
        "\n",
        "grid_search.fit(X_train,y_train)"
      ],
      "execution_count": 36,
      "outputs": [
        {
          "output_type": "stream",
          "name": "stdout",
          "text": [
            "Fitting 5 folds for each of 16 candidates, totalling 80 fits\n"
          ]
        },
        {
          "output_type": "execute_result",
          "data": {
            "text/plain": [
              "GridSearchCV(cv=5, estimator=DecisionTreeClassifier(),\n",
              "             param_grid={'criterion': ['entropy', 'gini'],\n",
              "                         'max_depth': range(5, 15, 5),\n",
              "                         'min_samples_leaf': range(50, 150, 50),\n",
              "                         'min_samples_split': range(50, 150, 50)},\n",
              "             verbose=1)"
            ]
          },
          "metadata": {},
          "execution_count": 36
        }
      ]
    },
    {
      "cell_type": "code",
      "metadata": {
        "scrolled": true,
        "id": "FdHEJHo_OgQ8",
        "colab": {
          "base_uri": "https://localhost:8080/",
          "height": 1000
        },
        "outputId": "d222c1f8-622b-479e-d955-aa2777b43524"
      },
      "source": [
        "\n",
        "cv_results = pd.DataFrame(grid_search.cv_results_)\n",
        "\n",
        "\n",
        "cv_results"
      ],
      "execution_count": 37,
      "outputs": [
        {
          "output_type": "execute_result",
          "data": {
            "text/html": [
              "<div>\n",
              "<style scoped>\n",
              "    .dataframe tbody tr th:only-of-type {\n",
              "        vertical-align: middle;\n",
              "    }\n",
              "\n",
              "    .dataframe tbody tr th {\n",
              "        vertical-align: top;\n",
              "    }\n",
              "\n",
              "    .dataframe thead th {\n",
              "        text-align: right;\n",
              "    }\n",
              "</style>\n",
              "<table border=\"1\" class=\"dataframe\">\n",
              "  <thead>\n",
              "    <tr style=\"text-align: right;\">\n",
              "      <th></th>\n",
              "      <th>mean_fit_time</th>\n",
              "      <th>std_fit_time</th>\n",
              "      <th>mean_score_time</th>\n",
              "      <th>std_score_time</th>\n",
              "      <th>param_criterion</th>\n",
              "      <th>param_max_depth</th>\n",
              "      <th>param_min_samples_leaf</th>\n",
              "      <th>param_min_samples_split</th>\n",
              "      <th>params</th>\n",
              "      <th>split0_test_score</th>\n",
              "      <th>split1_test_score</th>\n",
              "      <th>split2_test_score</th>\n",
              "      <th>split3_test_score</th>\n",
              "      <th>split4_test_score</th>\n",
              "      <th>mean_test_score</th>\n",
              "      <th>std_test_score</th>\n",
              "      <th>rank_test_score</th>\n",
              "    </tr>\n",
              "  </thead>\n",
              "  <tbody>\n",
              "    <tr>\n",
              "      <th>0</th>\n",
              "      <td>0.043322</td>\n",
              "      <td>0.001146</td>\n",
              "      <td>0.003345</td>\n",
              "      <td>0.000153</td>\n",
              "      <td>entropy</td>\n",
              "      <td>5</td>\n",
              "      <td>50</td>\n",
              "      <td>50</td>\n",
              "      <td>{'criterion': 'entropy', 'max_depth': 5, 'min_...</td>\n",
              "      <td>0.834241</td>\n",
              "      <td>0.843950</td>\n",
              "      <td>0.840398</td>\n",
              "      <td>0.845097</td>\n",
              "      <td>0.845334</td>\n",
              "      <td>0.841804</td>\n",
              "      <td>0.004173</td>\n",
              "      <td>13</td>\n",
              "    </tr>\n",
              "    <tr>\n",
              "      <th>1</th>\n",
              "      <td>0.042830</td>\n",
              "      <td>0.001278</td>\n",
              "      <td>0.003545</td>\n",
              "      <td>0.000221</td>\n",
              "      <td>entropy</td>\n",
              "      <td>5</td>\n",
              "      <td>50</td>\n",
              "      <td>100</td>\n",
              "      <td>{'criterion': 'entropy', 'max_depth': 5, 'min_...</td>\n",
              "      <td>0.834241</td>\n",
              "      <td>0.843950</td>\n",
              "      <td>0.840398</td>\n",
              "      <td>0.845097</td>\n",
              "      <td>0.845334</td>\n",
              "      <td>0.841804</td>\n",
              "      <td>0.004173</td>\n",
              "      <td>13</td>\n",
              "    </tr>\n",
              "    <tr>\n",
              "      <th>2</th>\n",
              "      <td>0.042850</td>\n",
              "      <td>0.001266</td>\n",
              "      <td>0.003811</td>\n",
              "      <td>0.000937</td>\n",
              "      <td>entropy</td>\n",
              "      <td>5</td>\n",
              "      <td>100</td>\n",
              "      <td>50</td>\n",
              "      <td>{'criterion': 'entropy', 'max_depth': 5, 'min_...</td>\n",
              "      <td>0.834241</td>\n",
              "      <td>0.842529</td>\n",
              "      <td>0.840398</td>\n",
              "      <td>0.845097</td>\n",
              "      <td>0.845808</td>\n",
              "      <td>0.841615</td>\n",
              "      <td>0.004157</td>\n",
              "      <td>15</td>\n",
              "    </tr>\n",
              "    <tr>\n",
              "      <th>3</th>\n",
              "      <td>0.044157</td>\n",
              "      <td>0.001999</td>\n",
              "      <td>0.003549</td>\n",
              "      <td>0.000328</td>\n",
              "      <td>entropy</td>\n",
              "      <td>5</td>\n",
              "      <td>100</td>\n",
              "      <td>100</td>\n",
              "      <td>{'criterion': 'entropy', 'max_depth': 5, 'min_...</td>\n",
              "      <td>0.834241</td>\n",
              "      <td>0.842529</td>\n",
              "      <td>0.840398</td>\n",
              "      <td>0.845097</td>\n",
              "      <td>0.845808</td>\n",
              "      <td>0.841615</td>\n",
              "      <td>0.004157</td>\n",
              "      <td>15</td>\n",
              "    </tr>\n",
              "    <tr>\n",
              "      <th>4</th>\n",
              "      <td>0.068630</td>\n",
              "      <td>0.003871</td>\n",
              "      <td>0.003459</td>\n",
              "      <td>0.000051</td>\n",
              "      <td>entropy</td>\n",
              "      <td>10</td>\n",
              "      <td>50</td>\n",
              "      <td>50</td>\n",
              "      <td>{'criterion': 'entropy', 'max_depth': 10, 'min...</td>\n",
              "      <td>0.842529</td>\n",
              "      <td>0.851527</td>\n",
              "      <td>0.847265</td>\n",
              "      <td>0.854334</td>\n",
              "      <td>0.853861</td>\n",
              "      <td>0.849903</td>\n",
              "      <td>0.004456</td>\n",
              "      <td>3</td>\n",
              "    </tr>\n",
              "    <tr>\n",
              "      <th>5</th>\n",
              "      <td>0.070232</td>\n",
              "      <td>0.003341</td>\n",
              "      <td>0.003610</td>\n",
              "      <td>0.000148</td>\n",
              "      <td>entropy</td>\n",
              "      <td>10</td>\n",
              "      <td>50</td>\n",
              "      <td>100</td>\n",
              "      <td>{'criterion': 'entropy', 'max_depth': 10, 'min...</td>\n",
              "      <td>0.842529</td>\n",
              "      <td>0.851527</td>\n",
              "      <td>0.847265</td>\n",
              "      <td>0.854334</td>\n",
              "      <td>0.853861</td>\n",
              "      <td>0.849903</td>\n",
              "      <td>0.004456</td>\n",
              "      <td>3</td>\n",
              "    </tr>\n",
              "    <tr>\n",
              "      <th>6</th>\n",
              "      <td>0.066084</td>\n",
              "      <td>0.001618</td>\n",
              "      <td>0.003866</td>\n",
              "      <td>0.000276</td>\n",
              "      <td>entropy</td>\n",
              "      <td>10</td>\n",
              "      <td>100</td>\n",
              "      <td>50</td>\n",
              "      <td>{'criterion': 'entropy', 'max_depth': 10, 'min...</td>\n",
              "      <td>0.845134</td>\n",
              "      <td>0.852475</td>\n",
              "      <td>0.847502</td>\n",
              "      <td>0.854098</td>\n",
              "      <td>0.845571</td>\n",
              "      <td>0.848956</td>\n",
              "      <td>0.003661</td>\n",
              "      <td>5</td>\n",
              "    </tr>\n",
              "    <tr>\n",
              "      <th>7</th>\n",
              "      <td>0.065296</td>\n",
              "      <td>0.002546</td>\n",
              "      <td>0.003563</td>\n",
              "      <td>0.000205</td>\n",
              "      <td>entropy</td>\n",
              "      <td>10</td>\n",
              "      <td>100</td>\n",
              "      <td>100</td>\n",
              "      <td>{'criterion': 'entropy', 'max_depth': 10, 'min...</td>\n",
              "      <td>0.845134</td>\n",
              "      <td>0.852475</td>\n",
              "      <td>0.847502</td>\n",
              "      <td>0.854098</td>\n",
              "      <td>0.845571</td>\n",
              "      <td>0.848956</td>\n",
              "      <td>0.003661</td>\n",
              "      <td>5</td>\n",
              "    </tr>\n",
              "    <tr>\n",
              "      <th>8</th>\n",
              "      <td>0.036987</td>\n",
              "      <td>0.001568</td>\n",
              "      <td>0.003716</td>\n",
              "      <td>0.000783</td>\n",
              "      <td>gini</td>\n",
              "      <td>5</td>\n",
              "      <td>50</td>\n",
              "      <td>50</td>\n",
              "      <td>{'criterion': 'gini', 'max_depth': 5, 'min_sam...</td>\n",
              "      <td>0.834241</td>\n",
              "      <td>0.844897</td>\n",
              "      <td>0.847502</td>\n",
              "      <td>0.845097</td>\n",
              "      <td>0.847466</td>\n",
              "      <td>0.843841</td>\n",
              "      <td>0.004927</td>\n",
              "      <td>9</td>\n",
              "    </tr>\n",
              "    <tr>\n",
              "      <th>9</th>\n",
              "      <td>0.036285</td>\n",
              "      <td>0.001800</td>\n",
              "      <td>0.003425</td>\n",
              "      <td>0.000168</td>\n",
              "      <td>gini</td>\n",
              "      <td>5</td>\n",
              "      <td>50</td>\n",
              "      <td>100</td>\n",
              "      <td>{'criterion': 'gini', 'max_depth': 5, 'min_sam...</td>\n",
              "      <td>0.834241</td>\n",
              "      <td>0.844897</td>\n",
              "      <td>0.847502</td>\n",
              "      <td>0.845097</td>\n",
              "      <td>0.847466</td>\n",
              "      <td>0.843841</td>\n",
              "      <td>0.004927</td>\n",
              "      <td>9</td>\n",
              "    </tr>\n",
              "    <tr>\n",
              "      <th>10</th>\n",
              "      <td>0.038036</td>\n",
              "      <td>0.002454</td>\n",
              "      <td>0.003572</td>\n",
              "      <td>0.000256</td>\n",
              "      <td>gini</td>\n",
              "      <td>5</td>\n",
              "      <td>100</td>\n",
              "      <td>50</td>\n",
              "      <td>{'criterion': 'gini', 'max_depth': 5, 'min_sam...</td>\n",
              "      <td>0.834241</td>\n",
              "      <td>0.843476</td>\n",
              "      <td>0.844897</td>\n",
              "      <td>0.845097</td>\n",
              "      <td>0.845334</td>\n",
              "      <td>0.842609</td>\n",
              "      <td>0.004234</td>\n",
              "      <td>11</td>\n",
              "    </tr>\n",
              "    <tr>\n",
              "      <th>11</th>\n",
              "      <td>0.033888</td>\n",
              "      <td>0.000389</td>\n",
              "      <td>0.003214</td>\n",
              "      <td>0.000050</td>\n",
              "      <td>gini</td>\n",
              "      <td>5</td>\n",
              "      <td>100</td>\n",
              "      <td>100</td>\n",
              "      <td>{'criterion': 'gini', 'max_depth': 5, 'min_sam...</td>\n",
              "      <td>0.834241</td>\n",
              "      <td>0.843476</td>\n",
              "      <td>0.844897</td>\n",
              "      <td>0.845097</td>\n",
              "      <td>0.845334</td>\n",
              "      <td>0.842609</td>\n",
              "      <td>0.004234</td>\n",
              "      <td>11</td>\n",
              "    </tr>\n",
              "    <tr>\n",
              "      <th>12</th>\n",
              "      <td>0.057051</td>\n",
              "      <td>0.001272</td>\n",
              "      <td>0.003734</td>\n",
              "      <td>0.000290</td>\n",
              "      <td>gini</td>\n",
              "      <td>10</td>\n",
              "      <td>50</td>\n",
              "      <td>50</td>\n",
              "      <td>{'criterion': 'gini', 'max_depth': 10, 'min_sa...</td>\n",
              "      <td>0.843950</td>\n",
              "      <td>0.851291</td>\n",
              "      <td>0.849870</td>\n",
              "      <td>0.855045</td>\n",
              "      <td>0.855045</td>\n",
              "      <td>0.851040</td>\n",
              "      <td>0.004093</td>\n",
              "      <td>1</td>\n",
              "    </tr>\n",
              "    <tr>\n",
              "      <th>13</th>\n",
              "      <td>0.057225</td>\n",
              "      <td>0.001531</td>\n",
              "      <td>0.003586</td>\n",
              "      <td>0.000253</td>\n",
              "      <td>gini</td>\n",
              "      <td>10</td>\n",
              "      <td>50</td>\n",
              "      <td>100</td>\n",
              "      <td>{'criterion': 'gini', 'max_depth': 10, 'min_sa...</td>\n",
              "      <td>0.843950</td>\n",
              "      <td>0.851291</td>\n",
              "      <td>0.849870</td>\n",
              "      <td>0.855045</td>\n",
              "      <td>0.855045</td>\n",
              "      <td>0.851040</td>\n",
              "      <td>0.004093</td>\n",
              "      <td>1</td>\n",
              "    </tr>\n",
              "    <tr>\n",
              "      <th>14</th>\n",
              "      <td>0.055519</td>\n",
              "      <td>0.001935</td>\n",
              "      <td>0.003494</td>\n",
              "      <td>0.000111</td>\n",
              "      <td>gini</td>\n",
              "      <td>10</td>\n",
              "      <td>100</td>\n",
              "      <td>50</td>\n",
              "      <td>{'criterion': 'gini', 'max_depth': 10, 'min_sa...</td>\n",
              "      <td>0.836372</td>\n",
              "      <td>0.848449</td>\n",
              "      <td>0.843239</td>\n",
              "      <td>0.854098</td>\n",
              "      <td>0.846518</td>\n",
              "      <td>0.845735</td>\n",
              "      <td>0.005862</td>\n",
              "      <td>7</td>\n",
              "    </tr>\n",
              "    <tr>\n",
              "      <th>15</th>\n",
              "      <td>0.054485</td>\n",
              "      <td>0.001243</td>\n",
              "      <td>0.003385</td>\n",
              "      <td>0.000024</td>\n",
              "      <td>gini</td>\n",
              "      <td>10</td>\n",
              "      <td>100</td>\n",
              "      <td>100</td>\n",
              "      <td>{'criterion': 'gini', 'max_depth': 10, 'min_sa...</td>\n",
              "      <td>0.836372</td>\n",
              "      <td>0.848449</td>\n",
              "      <td>0.843239</td>\n",
              "      <td>0.854098</td>\n",
              "      <td>0.846518</td>\n",
              "      <td>0.845735</td>\n",
              "      <td>0.005862</td>\n",
              "      <td>7</td>\n",
              "    </tr>\n",
              "  </tbody>\n",
              "</table>\n",
              "</div>"
            ],
            "text/plain": [
              "    mean_fit_time  std_fit_time  ...  std_test_score  rank_test_score\n",
              "0        0.043322      0.001146  ...        0.004173               13\n",
              "1        0.042830      0.001278  ...        0.004173               13\n",
              "2        0.042850      0.001266  ...        0.004157               15\n",
              "3        0.044157      0.001999  ...        0.004157               15\n",
              "4        0.068630      0.003871  ...        0.004456                3\n",
              "5        0.070232      0.003341  ...        0.004456                3\n",
              "6        0.066084      0.001618  ...        0.003661                5\n",
              "7        0.065296      0.002546  ...        0.003661                5\n",
              "8        0.036987      0.001568  ...        0.004927                9\n",
              "9        0.036285      0.001800  ...        0.004927                9\n",
              "10       0.038036      0.002454  ...        0.004234               11\n",
              "11       0.033888      0.000389  ...        0.004234               11\n",
              "12       0.057051      0.001272  ...        0.004093                1\n",
              "13       0.057225      0.001531  ...        0.004093                1\n",
              "14       0.055519      0.001935  ...        0.005862                7\n",
              "15       0.054485      0.001243  ...        0.005862                7\n",
              "\n",
              "[16 rows x 17 columns]"
            ]
          },
          "metadata": {},
          "execution_count": 37
        }
      ]
    },
    {
      "cell_type": "code",
      "metadata": {
        "id": "Iz8KyU43OgQ8",
        "colab": {
          "base_uri": "https://localhost:8080/"
        },
        "outputId": "4684e968-f02a-4899-bdb3-d8788597e19e"
      },
      "source": [
        "\n",
        "print(\"best accuracy\", grid_search.best_score_)\n",
        "\n",
        "print(grid_search.best_estimator_)\n"
      ],
      "execution_count": 38,
      "outputs": [
        {
          "output_type": "stream",
          "name": "stdout",
          "text": [
            "best accuracy 0.8510400232064759\n",
            "DecisionTreeClassifier(max_depth=10, min_samples_leaf=50, min_samples_split=50)\n"
          ]
        }
      ]
    },
    {
      "cell_type": "code",
      "metadata": {
        "id": "Q7Sm6JOHOgQ9",
        "colab": {
          "base_uri": "https://localhost:8080/"
        },
        "outputId": "cd185c2a-66d6-41c3-c933-2fe2d2644bc1"
      },
      "source": [
        "\n",
        "clf_gini = DecisionTreeClassifier(criterion = \"gini\", \n",
        "                                  random_state = 100,\n",
        "                                  max_depth=10, \n",
        "                                  min_samples_leaf=50,\n",
        "                                  min_samples_split=50)\n",
        "\n",
        "\n",
        "clf_gini.fit(X_train, y_train)"
      ],
      "execution_count": 39,
      "outputs": [
        {
          "output_type": "execute_result",
          "data": {
            "text/plain": [
              "DecisionTreeClassifier(max_depth=10, min_samples_leaf=50, min_samples_split=50,\n",
              "                       random_state=100)"
            ]
          },
          "metadata": {},
          "execution_count": 39
        }
      ]
    },
    {
      "cell_type": "code",
      "metadata": {
        "id": "M9LJL1JyOgQ9",
        "colab": {
          "base_uri": "https://localhost:8080/"
        },
        "outputId": "e10d8e77-93dd-4e90-a7e6-1d24c44c3716"
      },
      "source": [
        "\n",
        "clf_gini.score(X_test,y_test)"
      ],
      "execution_count": 40,
      "outputs": [
        {
          "output_type": "execute_result",
          "data": {
            "text/plain": [
              "0.850922753895458"
            ]
          },
          "metadata": {},
          "execution_count": 40
        }
      ]
    },
    {
      "cell_type": "code",
      "metadata": {
        "id": "QuiNXwKsOgQ9",
        "colab": {
          "base_uri": "https://localhost:8080/",
          "height": 1000
        },
        "outputId": "e6c3699c-f65b-4fbf-94be-a53b570ee684"
      },
      "source": [
        "\n",
        "from sklearn import tree\n",
        "\n",
        "plt.figure(figsize=(20,10))\n",
        "tree.plot_tree(clf_gini,filled=True)\n",
        "\n"
      ],
      "execution_count": 41,
      "outputs": [
        {
          "output_type": "execute_result",
          "data": {
            "text/plain": [
              "[Text(717.5383474576271, 518.8909090909091, 'X[10] <= 0.5\\ngini = 0.377\\nsamples = 21113\\nvalue = [15787, 5326]'),\n",
              " Text(410.3427966101695, 469.4727272727273, 'X[2] <= 12.5\\ngini = 0.497\\nsamples = 8825\\nvalue = [4768, 4057]'),\n",
              " Text(271.5521186440678, 420.05454545454546, 'X[3] <= 5095.5\\ngini = 0.449\\nsamples = 6177\\nvalue = [4074, 2103]'),\n",
              " Text(191.75338983050847, 370.6363636363636, 'X[2] <= 8.5\\ngini = 0.425\\nsamples = 5860\\nvalue = [4068, 1792]'),\n",
              " Text(54.85423728813559, 321.21818181818185, 'X[0] <= 37.5\\ngini = 0.193\\nsamples = 926\\nvalue = [826, 100]'),\n",
              " Text(22.698305084745762, 271.8, 'X[5] <= 49.0\\ngini = 0.08\\nsamples = 311\\nvalue = [298, 13]'),\n",
              " Text(15.132203389830508, 222.38181818181818, 'X[13] <= 34.5\\ngini = 0.061\\nsamples = 254\\nvalue = [246, 8]'),\n",
              " Text(7.566101694915254, 172.96363636363634, 'gini = 0.0\\nsamples = 72\\nvalue = [72, 0]'),\n",
              " Text(22.698305084745762, 172.96363636363634, 'X[1] <= 154366.0\\ngini = 0.084\\nsamples = 182\\nvalue = [174, 8]'),\n",
              " Text(15.132203389830508, 123.54545454545456, 'gini = 0.032\\nsamples = 61\\nvalue = [60, 1]'),\n",
              " Text(30.264406779661016, 123.54545454545456, 'X[1] <= 214229.5\\ngini = 0.109\\nsamples = 121\\nvalue = [114, 7]'),\n",
              " Text(22.698305084745762, 74.12727272727273, 'gini = 0.147\\nsamples = 50\\nvalue = [46, 4]'),\n",
              " Text(37.83050847457627, 74.12727272727273, 'gini = 0.081\\nsamples = 71\\nvalue = [68, 3]'),\n",
              " Text(30.264406779661016, 222.38181818181818, 'gini = 0.16\\nsamples = 57\\nvalue = [52, 5]'),\n",
              " Text(87.01016949152542, 271.8, 'X[5] <= 44.5\\ngini = 0.243\\nsamples = 615\\nvalue = [528, 87]'),\n",
              " Text(68.09491525423729, 222.38181818181818, 'X[7] <= 0.5\\ngini = 0.207\\nsamples = 470\\nvalue = [415, 55]'),\n",
              " Text(52.96271186440678, 172.96363636363634, 'X[1] <= 180660.5\\ngini = 0.36\\nsamples = 102\\nvalue = [78, 24]'),\n",
              " Text(45.396610169491524, 123.54545454545456, 'gini = 0.38\\nsamples = 51\\nvalue = [38, 13]'),\n",
              " Text(60.52881355932203, 123.54545454545456, 'gini = 0.338\\nsamples = 51\\nvalue = [40, 11]'),\n",
              " Text(83.22711864406779, 172.96363636363634, 'X[1] <= 97886.0\\ngini = 0.154\\nsamples = 368\\nvalue = [337, 31]'),\n",
              " Text(75.66101694915254, 123.54545454545456, 'gini = 0.269\\nsamples = 50\\nvalue = [42, 8]'),\n",
              " Text(90.79322033898305, 123.54545454545456, 'X[1] <= 237026.0\\ngini = 0.134\\nsamples = 318\\nvalue = [295, 23]'),\n",
              " Text(83.22711864406779, 74.12727272727273, 'X[7] <= 3.5\\ngini = 0.094\\nsamples = 222\\nvalue = [211, 11]'),\n",
              " Text(75.66101694915254, 24.709090909090946, 'gini = 0.148\\nsamples = 87\\nvalue = [80, 7]'),\n",
              " Text(90.79322033898305, 24.709090909090946, 'gini = 0.058\\nsamples = 135\\nvalue = [131, 4]'),\n",
              " Text(98.35932203389831, 74.12727272727273, 'gini = 0.219\\nsamples = 96\\nvalue = [84, 12]'),\n",
              " Text(105.92542372881356, 222.38181818181818, 'X[9] <= 6.5\\ngini = 0.344\\nsamples = 145\\nvalue = [113, 32]'),\n",
              " Text(98.35932203389831, 172.96363636363634, 'gini = 0.388\\nsamples = 95\\nvalue = [70, 25]'),\n",
              " Text(113.4915254237288, 172.96363636363634, 'gini = 0.241\\nsamples = 50\\nvalue = [43, 7]'),\n",
              " Text(328.6525423728813, 321.21818181818185, 'X[4] <= 1846.0\\ngini = 0.451\\nsamples = 4934\\nvalue = [3242, 1692]'),\n",
              " Text(267.6508474576271, 271.8, 'X[0] <= 33.5\\ngini = 0.439\\nsamples = 4729\\nvalue = [3192, 1537]'),\n",
              " Text(200.50169491525423, 222.38181818181818, 'X[0] <= 28.5\\ngini = 0.305\\nsamples = 1257\\nvalue = [1021, 236]'),\n",
              " Text(155.1050847457627, 172.96363636363634, 'X[7] <= 13.0\\ngini = 0.222\\nsamples = 542\\nvalue = [473, 69]'),\n",
              " Text(128.62372881355932, 123.54545454545456, 'X[9] <= 8.0\\ngini = 0.167\\nsamples = 359\\nvalue = [326, 33]'),\n",
              " Text(113.4915254237288, 74.12727272727273, 'X[1] <= 138167.0\\ngini = 0.123\\nsamples = 259\\nvalue = [242, 17]'),\n",
              " Text(105.92542372881356, 24.709090909090946, 'gini = 0.219\\nsamples = 72\\nvalue = [63, 9]'),\n",
              " Text(121.05762711864406, 24.709090909090946, 'gini = 0.082\\nsamples = 187\\nvalue = [179, 8]'),\n",
              " Text(143.75593220338982, 74.12727272727273, 'X[1] <= 213803.0\\ngini = 0.269\\nsamples = 100\\nvalue = [84, 16]'),\n",
              " Text(136.18983050847459, 24.709090909090946, 'gini = 0.32\\nsamples = 50\\nvalue = [40, 10]'),\n",
              " Text(151.32203389830508, 24.709090909090946, 'gini = 0.211\\nsamples = 50\\nvalue = [44, 6]'),\n",
              " Text(181.5864406779661, 123.54545454545456, 'X[1] <= 192200.5\\ngini = 0.316\\nsamples = 183\\nvalue = [147, 36]'),\n",
              " Text(174.02033898305083, 74.12727272727273, 'X[1] <= 124148.5\\ngini = 0.233\\nsamples = 104\\nvalue = [90, 14]'),\n",
              " Text(166.45423728813557, 24.709090909090946, 'gini = 0.198\\nsamples = 54\\nvalue = [48, 6]'),\n",
              " Text(181.5864406779661, 24.709090909090946, 'gini = 0.269\\nsamples = 50\\nvalue = [42, 8]'),\n",
              " Text(189.15254237288136, 74.12727272727273, 'gini = 0.402\\nsamples = 79\\nvalue = [57, 22]'),\n",
              " Text(245.89830508474574, 172.96363636363634, 'X[9] <= 8.0\\ngini = 0.358\\nsamples = 715\\nvalue = [548, 167]'),\n",
              " Text(219.41694915254237, 123.54545454545456, 'X[1] <= 112050.0\\ngini = 0.316\\nsamples = 463\\nvalue = [372, 91]'),\n",
              " Text(204.28474576271185, 74.12727272727273, 'X[1] <= 68900.0\\ngini = 0.126\\nsamples = 104\\nvalue = [97, 7]'),\n",
              " Text(196.71864406779662, 24.709090909090946, 'gini = 0.073\\nsamples = 53\\nvalue = [51, 2]'),\n",
              " Text(211.8508474576271, 24.709090909090946, 'gini = 0.177\\nsamples = 51\\nvalue = [46, 5]'),\n",
              " Text(234.54915254237287, 74.12727272727273, 'X[7] <= 13.0\\ngini = 0.358\\nsamples = 359\\nvalue = [275, 84]'),\n",
              " Text(226.9830508474576, 24.709090909090946, 'gini = 0.304\\nsamples = 257\\nvalue = [209, 48]'),\n",
              " Text(242.11525423728813, 24.709090909090946, 'gini = 0.457\\nsamples = 102\\nvalue = [66, 36]'),\n",
              " Text(272.37966101694917, 123.54545454545456, 'X[5] <= 49.0\\ngini = 0.421\\nsamples = 252\\nvalue = [176, 76]'),\n",
              " Text(264.8135593220339, 74.12727272727273, 'X[2] <= 9.5\\ngini = 0.398\\nsamples = 175\\nvalue = [127, 48]'),\n",
              " Text(257.24745762711865, 24.709090909090946, 'gini = 0.336\\nsamples = 89\\nvalue = [70, 19]'),\n",
              " Text(272.37966101694917, 24.709090909090946, 'gini = 0.447\\nsamples = 86\\nvalue = [57, 29]'),\n",
              " Text(279.9457627118644, 74.12727272727273, 'gini = 0.463\\nsamples = 77\\nvalue = [49, 28]'),\n",
              " Text(334.8, 222.38181818181818, 'X[5] <= 34.5\\ngini = 0.469\\nsamples = 3472\\nvalue = [2171, 1301]'),\n",
              " Text(310.2101694915254, 172.96363636363634, 'X[2] <= 9.5\\ngini = 0.177\\nsamples = 245\\nvalue = [221, 24]'),\n",
              " Text(302.64406779661016, 123.54545454545456, 'X[9] <= 6.5\\ngini = 0.078\\nsamples = 147\\nvalue = [141, 6]'),\n",
              " Text(295.0779661016949, 74.12727272727273, 'gini = 0.025\\nsamples = 80\\nvalue = [79, 1]'),\n",
              " Text(310.2101694915254, 74.12727272727273, 'gini = 0.138\\nsamples = 67\\nvalue = [62, 5]'),\n",
              " Text(317.7762711864407, 123.54545454545456, 'gini = 0.3\\nsamples = 98\\nvalue = [80, 18]'),\n",
              " Text(359.3898305084746, 172.96363636363634, 'X[2] <= 9.5\\ngini = 0.478\\nsamples = 3227\\nvalue = [1950, 1277]'),\n",
              " Text(332.90847457627115, 123.54545454545456, 'X[6] <= 0.5\\ngini = 0.447\\nsamples = 1763\\nvalue = [1169, 594]'),\n",
              " Text(325.3423728813559, 74.12727272727273, 'gini = 0.477\\nsamples = 61\\nvalue = [24, 37]'),\n",
              " Text(340.47457627118644, 74.12727272727273, 'X[6] <= 3.5\\ngini = 0.44\\nsamples = 1702\\nvalue = [1145, 557]'),\n",
              " Text(332.90847457627115, 24.709090909090946, 'gini = 0.454\\nsamples = 1403\\nvalue = [915, 488]'),\n",
              " Text(348.04067796610167, 24.709090909090946, 'gini = 0.355\\nsamples = 299\\nvalue = [230, 69]'),\n",
              " Text(385.87118644067795, 123.54545454545456, 'X[6] <= 3.5\\ngini = 0.498\\nsamples = 1464\\nvalue = [781, 683]'),\n",
              " Text(370.7389830508474, 74.12727272727273, 'X[9] <= 8.0\\ngini = 0.5\\nsamples = 1239\\nvalue = [628, 611]'),\n",
              " Text(363.1728813559322, 24.709090909090946, 'gini = 0.495\\nsamples = 783\\nvalue = [431, 352]'),\n",
              " Text(378.3050847457627, 24.709090909090946, 'gini = 0.491\\nsamples = 456\\nvalue = [197, 259]'),\n",
              " Text(401.00338983050847, 74.12727272727273, 'X[1] <= 156220.0\\ngini = 0.435\\nsamples = 225\\nvalue = [153, 72]'),\n",
              " Text(393.43728813559323, 24.709090909090946, 'gini = 0.377\\nsamples = 119\\nvalue = [89, 30]'),\n",
              " Text(408.5694915254237, 24.709090909090946, 'gini = 0.478\\nsamples = 106\\nvalue = [64, 42]'),\n",
              " Text(389.65423728813556, 271.8, 'X[4] <= 1989.5\\ngini = 0.369\\nsamples = 205\\nvalue = [50, 155]'),\n",
              " Text(382.08813559322033, 222.38181818181818, 'X[4] <= 1894.5\\ngini = 0.089\\nsamples = 150\\nvalue = [7, 143]'),\n",
              " Text(374.5220338983051, 172.96363636363634, 'gini = 0.0\\nsamples = 77\\nvalue = [0, 77]'),\n",
              " Text(389.65423728813556, 172.96363636363634, 'gini = 0.173\\nsamples = 73\\nvalue = [7, 66]'),\n",
              " Text(397.22033898305085, 222.38181818181818, 'gini = 0.341\\nsamples = 55\\nvalue = [43, 12]'),\n",
              " Text(351.3508474576271, 370.6363636363636, 'X[0] <= 57.5\\ngini = 0.037\\nsamples = 317\\nvalue = [6, 311]'),\n",
              " Text(343.78474576271185, 321.21818181818185, 'gini = 0.0\\nsamples = 263\\nvalue = [0, 263]'),\n",
              " Text(358.9169491525424, 321.21818181818185, 'gini = 0.198\\nsamples = 54\\nvalue = [6, 48]'),\n",
              " Text(549.1334745762712, 420.05454545454546, 'X[3] <= 5095.5\\ngini = 0.387\\nsamples = 2648\\nvalue = [694, 1954]'),\n",
              " Text(510.00254237288135, 370.6363636363636, 'X[4] <= 1782.5\\ngini = 0.43\\nsamples = 2216\\nvalue = [693, 1523]'),\n",
              " Text(454.43898305084747, 321.21818181818185, 'X[5] <= 31.0\\ngini = 0.453\\nsamples = 1983\\nvalue = [687, 1296]'),\n",
              " Text(419.9186440677966, 271.8, 'X[1] <= 181416.5\\ngini = 0.421\\nsamples = 123\\nvalue = [86, 37]'),\n",
              " Text(412.3525423728813, 222.38181818181818, 'gini = 0.344\\nsamples = 68\\nvalue = [53, 15]'),\n",
              " Text(427.48474576271184, 222.38181818181818, 'gini = 0.48\\nsamples = 55\\nvalue = [33, 22]'),\n",
              " Text(488.9593220338983, 271.8, 'X[0] <= 33.5\\ngini = 0.437\\nsamples = 1860\\nvalue = [601, 1259]'),\n",
              " Text(442.61694915254236, 222.38181818181818, 'X[0] <= 29.5\\ngini = 0.496\\nsamples = 351\\nvalue = [159, 192]'),\n",
              " Text(427.48474576271184, 172.96363636363634, 'X[9] <= 8.0\\ngini = 0.498\\nsamples = 146\\nvalue = [78, 68]'),\n",
              " Text(419.9186440677966, 123.54545454545456, 'gini = 0.469\\nsamples = 56\\nvalue = [35, 21]'),\n",
              " Text(435.0508474576271, 123.54545454545456, 'gini = 0.499\\nsamples = 90\\nvalue = [43, 47]'),\n",
              " Text(457.7491525423729, 172.96363636363634, 'X[5] <= 46.5\\ngini = 0.478\\nsamples = 205\\nvalue = [81, 124]'),\n",
              " Text(450.1830508474576, 123.54545454545456, 'X[1] <= 161172.5\\ngini = 0.49\\nsamples = 123\\nvalue = [53, 70]'),\n",
              " Text(442.61694915254236, 74.12727272727273, 'gini = 0.471\\nsamples = 50\\nvalue = [19, 31]'),\n",
              " Text(457.7491525423729, 74.12727272727273, 'gini = 0.498\\nsamples = 73\\nvalue = [34, 39]'),\n",
              " Text(465.3152542372881, 123.54545454545456, 'gini = 0.45\\nsamples = 82\\nvalue = [28, 54]'),\n",
              " Text(535.3016949152542, 222.38181818181818, 'X[2] <= 13.5\\ngini = 0.414\\nsamples = 1509\\nvalue = [442, 1067]'),\n",
              " Text(506.928813559322, 172.96363636363634, 'X[6] <= 3.5\\ngini = 0.445\\nsamples = 923\\nvalue = [308, 615]'),\n",
              " Text(488.01355932203387, 123.54545454545456, 'X[5] <= 41.0\\ngini = 0.425\\nsamples = 778\\nvalue = [238, 540]'),\n",
              " Text(472.88135593220335, 74.12727272727273, 'X[0] <= 48.5\\ngini = 0.467\\nsamples = 361\\nvalue = [134, 227]'),\n",
              " Text(465.3152542372881, 24.709090909090946, 'gini = 0.444\\nsamples = 237\\nvalue = [79, 158]'),\n",
              " Text(480.44745762711864, 24.709090909090946, 'gini = 0.494\\nsamples = 124\\nvalue = [55, 69]'),\n",
              " Text(503.1457627118644, 74.12727272727273, 'X[9] <= 3.5\\ngini = 0.374\\nsamples = 417\\nvalue = [104, 313]'),\n",
              " Text(495.57966101694916, 24.709090909090946, 'gini = 0.301\\nsamples = 184\\nvalue = [34, 150]'),\n",
              " Text(510.7118644067796, 24.709090909090946, 'gini = 0.42\\nsamples = 233\\nvalue = [70, 163]'),\n",
              " Text(525.8440677966101, 123.54545454545456, 'X[0] <= 42.5\\ngini = 0.499\\nsamples = 145\\nvalue = [70, 75]'),\n",
              " Text(518.2779661016949, 74.12727272727273, 'gini = 0.482\\nsamples = 52\\nvalue = [31, 21]'),\n",
              " Text(533.4101694915254, 74.12727272727273, 'gini = 0.487\\nsamples = 93\\nvalue = [39, 54]'),\n",
              " Text(563.6745762711864, 172.96363636363634, 'X[9] <= 10.5\\ngini = 0.353\\nsamples = 586\\nvalue = [134, 452]'),\n",
              " Text(556.1084745762712, 123.54545454545456, 'X[0] <= 56.5\\ngini = 0.329\\nsamples = 524\\nvalue = [109, 415]'),\n",
              " Text(548.542372881356, 74.12727272727273, 'X[2] <= 14.5\\ngini = 0.312\\nsamples = 455\\nvalue = [88, 367]'),\n",
              " Text(540.9762711864406, 24.709090909090946, 'gini = 0.354\\nsamples = 279\\nvalue = [64, 215]'),\n",
              " Text(556.1084745762712, 24.709090909090946, 'gini = 0.236\\nsamples = 176\\nvalue = [24, 152]'),\n",
              " Text(563.6745762711864, 74.12727272727273, 'gini = 0.423\\nsamples = 69\\nvalue = [21, 48]'),\n",
              " Text(571.2406779661017, 123.54545454545456, 'gini = 0.481\\nsamples = 62\\nvalue = [25, 37]'),\n",
              " Text(565.5661016949152, 321.21818181818185, 'X[7] <= 11.0\\ngini = 0.05\\nsamples = 233\\nvalue = [6, 227]'),\n",
              " Text(558.0, 271.8, 'X[4] <= 1939.5\\ngini = 0.079\\nsamples = 145\\nvalue = [6, 139]'),\n",
              " Text(550.4338983050848, 222.38181818181818, 'gini = 0.023\\nsamples = 85\\nvalue = [1, 84]'),\n",
              " Text(565.5661016949152, 222.38181818181818, 'gini = 0.153\\nsamples = 60\\nvalue = [5, 55]'),\n",
              " Text(573.1322033898305, 271.8, 'gini = 0.0\\nsamples = 88\\nvalue = [0, 88]'),\n",
              " Text(588.264406779661, 370.6363636363636, 'X[0] <= 58.5\\ngini = 0.005\\nsamples = 432\\nvalue = [1, 431]'),\n",
              " Text(580.6983050847457, 321.21818181818185, 'gini = 0.0\\nsamples = 373\\nvalue = [0, 373]'),\n",
              " Text(595.8305084745763, 321.21818181818185, 'gini = 0.033\\nsamples = 59\\nvalue = [1, 58]'),\n",
              " Text(1024.7338983050847, 469.4727272727273, 'X[3] <= 7073.5\\ngini = 0.185\\nsamples = 12288\\nvalue = [11019, 1269]'),\n",
              " Text(961.8406779661017, 420.05454545454546, 'X[10] <= 4.5\\ngini = 0.152\\nsamples = 12007\\nvalue = [11011, 996]'),\n",
              " Text(858.7525423728813, 370.6363636363636, 'X[2] <= 13.5\\ngini = 0.098\\nsamples = 11106\\nvalue = [10535, 571]'),\n",
              " Text(771.7423728813559, 321.21818181818185, 'X[5] <= 44.5\\ngini = 0.075\\nsamples = 10505\\nvalue = [10095, 410]'),\n",
              " Text(686.6237288135593, 271.8, 'X[4] <= 1990.5\\ngini = 0.045\\nsamples = 8549\\nvalue = [8350, 199]'),\n",
              " Text(679.0576271186441, 222.38181818181818, 'X[0] <= 34.5\\ngini = 0.042\\nsamples = 8497\\nvalue = [8314, 183]'),\n",
              " Text(624.2033898305084, 172.96363636363634, 'X[0] <= 26.5\\ngini = 0.013\\nsamples = 5133\\nvalue = [5099, 34]'),\n",
              " Text(593.9389830508475, 123.54545454545456, 'X[8] <= 2.5\\ngini = 0.004\\nsamples = 3415\\nvalue = [3408, 7]'),\n",
              " Text(578.8067796610169, 74.12727272727273, 'X[12] <= 0.5\\ngini = 0.031\\nsamples = 128\\nvalue = [126, 2]'),\n",
              " Text(571.2406779661017, 24.709090909090946, 'gini = 0.0\\nsamples = 78\\nvalue = [78, 0]'),\n",
              " Text(586.3728813559322, 24.709090909090946, 'gini = 0.077\\nsamples = 50\\nvalue = [48, 2]'),\n",
              " Text(609.0711864406779, 74.12727272727273, 'X[2] <= 10.5\\ngini = 0.003\\nsamples = 3287\\nvalue = [3282, 5]'),\n",
              " Text(601.5050847457627, 24.709090909090946, 'gini = 0.001\\nsamples = 2720\\nvalue = [2719, 1]'),\n",
              " Text(616.6372881355932, 24.709090909090946, 'gini = 0.014\\nsamples = 567\\nvalue = [563, 4]'),\n",
              " Text(654.4677966101694, 123.54545454545456, 'X[2] <= 9.5\\ngini = 0.031\\nsamples = 1718\\nvalue = [1691, 27]'),\n",
              " Text(639.335593220339, 74.12727272727273, 'X[0] <= 31.5\\ngini = 0.009\\nsamples = 852\\nvalue = [848, 4]'),\n",
              " Text(631.7694915254237, 24.709090909090946, 'gini = 0.0\\nsamples = 557\\nvalue = [557, 0]'),\n",
              " Text(646.9016949152542, 24.709090909090946, 'gini = 0.027\\nsamples = 295\\nvalue = [291, 4]'),\n",
              " Text(669.6, 74.12727272727273, 'X[13] <= 29.5\\ngini = 0.052\\nsamples = 866\\nvalue = [843, 23]'),\n",
              " Text(662.0338983050847, 24.709090909090946, 'gini = 0.148\\nsamples = 62\\nvalue = [57, 5]'),\n",
              " Text(677.1661016949153, 24.709090909090946, 'gini = 0.044\\nsamples = 804\\nvalue = [786, 18]'),\n",
              " Text(733.9118644067796, 172.96363636363634, 'X[2] <= 12.5\\ngini = 0.085\\nsamples = 3364\\nvalue = [3215, 149]'),\n",
              " Text(714.9966101694915, 123.54545454545456, 'X[12] <= 0.5\\ngini = 0.063\\nsamples = 2913\\nvalue = [2818, 95]'),\n",
              " Text(699.864406779661, 74.12727272727273, 'X[1] <= 31486.5\\ngini = 0.041\\nsamples = 1914\\nvalue = [1874, 40]'),\n",
              " Text(692.2983050847457, 24.709090909090946, 'gini = 0.155\\nsamples = 59\\nvalue = [54, 5]'),\n",
              " Text(707.4305084745763, 24.709090909090946, 'gini = 0.037\\nsamples = 1855\\nvalue = [1820, 35]'),\n",
              " Text(730.128813559322, 74.12727272727273, 'X[9] <= 8.5\\ngini = 0.104\\nsamples = 999\\nvalue = [944, 55]'),\n",
              " Text(722.5627118644068, 24.709090909090946, 'gini = 0.065\\nsamples = 767\\nvalue = [741, 26]'),\n",
              " Text(737.6949152542372, 24.709090909090946, 'gini = 0.219\\nsamples = 232\\nvalue = [203, 29]'),\n",
              " Text(752.8271186440678, 123.54545454545456, 'X[5] <= 31.0\\ngini = 0.211\\nsamples = 451\\nvalue = [397, 54]'),\n",
              " Text(745.2610169491525, 74.12727272727273, 'gini = 0.0\\nsamples = 53\\nvalue = [53, 0]'),\n",
              " Text(760.393220338983, 74.12727272727273, 'X[9] <= 8.0\\ngini = 0.235\\nsamples = 398\\nvalue = [344, 54]'),\n",
              " Text(752.8271186440678, 24.709090909090946, 'gini = 0.163\\nsamples = 190\\nvalue = [173, 17]'),\n",
              " Text(767.9593220338983, 24.709090909090946, 'gini = 0.292\\nsamples = 208\\nvalue = [171, 37]'),\n",
              " Text(694.1898305084745, 222.38181818181818, 'gini = 0.426\\nsamples = 52\\nvalue = [36, 16]'),\n",
              " Text(856.8610169491525, 271.8, 'X[2] <= 12.5\\ngini = 0.192\\nsamples = 1956\\nvalue = [1745, 211]'),\n",
              " Text(824.7050847457626, 222.38181818181818, 'X[0] <= 33.5\\ngini = 0.128\\nsamples = 1479\\nvalue = [1377, 102]'),\n",
              " Text(805.7898305084746, 172.96363636363634, 'X[6] <= 2.5\\ngini = 0.064\\nsamples = 726\\nvalue = [702, 24]'),\n",
              " Text(798.2237288135593, 123.54545454545456, 'X[2] <= 10.5\\ngini = 0.049\\nsamples = 636\\nvalue = [620, 16]'),\n",
              " Text(790.6576271186441, 74.12727272727273, 'X[9] <= 5.5\\ngini = 0.031\\nsamples = 567\\nvalue = [558, 9]'),\n",
              " Text(783.0915254237287, 24.709090909090946, 'gini = 0.007\\nsamples = 283\\nvalue = [282, 1]'),\n",
              " Text(798.2237288135593, 24.709090909090946, 'gini = 0.055\\nsamples = 284\\nvalue = [276, 8]'),\n",
              " Text(805.7898305084746, 74.12727272727273, 'gini = 0.182\\nsamples = 69\\nvalue = [62, 7]'),\n",
              " Text(813.3559322033898, 123.54545454545456, 'gini = 0.162\\nsamples = 90\\nvalue = [82, 8]'),\n",
              " Text(843.6203389830508, 172.96363636363634, 'X[1] <= 344509.0\\ngini = 0.186\\nsamples = 753\\nvalue = [675, 78]'),\n",
              " Text(836.0542372881356, 123.54545454545456, 'X[2] <= 9.5\\ngini = 0.165\\nsamples = 696\\nvalue = [633, 63]'),\n",
              " Text(820.922033898305, 74.12727272727273, 'X[8] <= 3.5\\ngini = 0.105\\nsamples = 396\\nvalue = [374, 22]'),\n",
              " Text(813.3559322033898, 24.709090909090946, 'gini = 0.139\\nsamples = 227\\nvalue = [210, 17]'),\n",
              " Text(828.4881355932204, 24.709090909090946, 'gini = 0.057\\nsamples = 169\\nvalue = [164, 5]'),\n",
              " Text(851.1864406779661, 74.12727272727273, 'X[12] <= 0.5\\ngini = 0.236\\nsamples = 300\\nvalue = [259, 41]'),\n",
              " Text(843.6203389830508, 24.709090909090946, 'gini = 0.114\\nsamples = 132\\nvalue = [124, 8]'),\n",
              " Text(858.7525423728813, 24.709090909090946, 'gini = 0.316\\nsamples = 168\\nvalue = [135, 33]'),\n",
              " Text(851.1864406779661, 123.54545454545456, 'gini = 0.388\\nsamples = 57\\nvalue = [42, 15]'),\n",
              " Text(889.0169491525423, 222.38181818181818, 'X[0] <= 27.5\\ngini = 0.353\\nsamples = 477\\nvalue = [368, 109]'),\n",
              " Text(873.8847457627119, 172.96363636363634, 'X[1] <= 175595.0\\ngini = 0.051\\nsamples = 115\\nvalue = [112, 3]'),\n",
              " Text(866.3186440677965, 123.54545454545456, 'gini = 0.0\\nsamples = 52\\nvalue = [52, 0]'),\n",
              " Text(881.4508474576271, 123.54545454545456, 'gini = 0.091\\nsamples = 63\\nvalue = [60, 3]'),\n",
              " Text(904.1491525423728, 172.96363636363634, 'X[1] <= 114298.5\\ngini = 0.414\\nsamples = 362\\nvalue = [256, 106]'),\n",
              " Text(896.5830508474576, 123.54545454545456, 'gini = 0.301\\nsamples = 92\\nvalue = [75, 17]'),\n",
              " Text(911.7152542372881, 123.54545454545456, 'X[12] <= 0.5\\ngini = 0.442\\nsamples = 270\\nvalue = [181, 89]'),\n",
              " Text(896.5830508474576, 74.12727272727273, 'X[9] <= 5.0\\ngini = 0.394\\nsamples = 115\\nvalue = [84, 31]'),\n",
              " Text(889.0169491525423, 24.709090909090946, 'gini = 0.444\\nsamples = 51\\nvalue = [34, 17]'),\n",
              " Text(904.1491525423728, 24.709090909090946, 'gini = 0.342\\nsamples = 64\\nvalue = [50, 14]'),\n",
              " Text(926.8474576271186, 74.12727272727273, 'X[0] <= 41.5\\ngini = 0.468\\nsamples = 155\\nvalue = [97, 58]'),\n",
              " Text(919.2813559322034, 24.709090909090946, 'gini = 0.44\\nsamples = 101\\nvalue = [68, 33]'),\n",
              " Text(934.4135593220338, 24.709090909090946, 'gini = 0.497\\nsamples = 54\\nvalue = [29, 25]'),\n",
              " Text(945.7627118644067, 321.21818181818185, 'X[0] <= 31.5\\ngini = 0.392\\nsamples = 601\\nvalue = [440, 161]'),\n",
              " Text(926.8474576271186, 271.8, 'X[5] <= 44.0\\ngini = 0.128\\nsamples = 145\\nvalue = [135, 10]'),\n",
              " Text(919.2813559322034, 222.38181818181818, 'gini = 0.064\\nsamples = 90\\nvalue = [87, 3]'),\n",
              " Text(934.4135593220338, 222.38181818181818, 'gini = 0.222\\nsamples = 55\\nvalue = [48, 7]'),\n",
              " Text(964.6779661016949, 271.8, 'X[12] <= 0.5\\ngini = 0.443\\nsamples = 456\\nvalue = [305, 151]'),\n",
              " Text(949.5457627118644, 222.38181818181818, 'X[5] <= 43.5\\ngini = 0.344\\nsamples = 254\\nvalue = [198, 56]'),\n",
              " Text(941.9796610169491, 172.96363636363634, 'X[1] <= 142125.5\\ngini = 0.245\\nsamples = 168\\nvalue = [144, 24]'),\n",
              " Text(934.4135593220338, 123.54545454545456, 'gini = 0.121\\nsamples = 62\\nvalue = [58, 4]'),\n",
              " Text(949.5457627118644, 123.54545454545456, 'X[1] <= 189818.0\\ngini = 0.306\\nsamples = 106\\nvalue = [86, 20]'),\n",
              " Text(941.9796610169491, 74.12727272727273, 'gini = 0.269\\nsamples = 50\\nvalue = [42, 8]'),\n",
              " Text(957.1118644067797, 74.12727272727273, 'gini = 0.337\\nsamples = 56\\nvalue = [44, 12]'),\n",
              " Text(957.1118644067797, 172.96363636363634, 'gini = 0.467\\nsamples = 86\\nvalue = [54, 32]'),\n",
              " Text(979.8101694915254, 222.38181818181818, 'X[2] <= 14.5\\ngini = 0.498\\nsamples = 202\\nvalue = [107, 95]'),\n",
              " Text(972.2440677966101, 172.96363636363634, 'X[5] <= 43.5\\ngini = 0.473\\nsamples = 143\\nvalue = [88, 55]'),\n",
              " Text(964.6779661016949, 123.54545454545456, 'gini = 0.372\\nsamples = 85\\nvalue = [64, 21]'),\n",
              " Text(979.8101694915254, 123.54545454545456, 'gini = 0.485\\nsamples = 58\\nvalue = [24, 34]'),\n",
              " Text(987.3762711864406, 172.96363636363634, 'gini = 0.437\\nsamples = 59\\nvalue = [19, 40]'),\n",
              " Text(1064.928813559322, 370.6363636363636, 'X[2] <= 12.5\\ngini = 0.498\\nsamples = 901\\nvalue = [476, 425]'),\n",
              " Text(1028.9898305084746, 321.21818181818185, 'X[9] <= 3.5\\ngini = 0.468\\nsamples = 641\\nvalue = [401, 240]'),\n",
              " Text(1002.5084745762712, 271.8, 'X[0] <= 31.5\\ngini = 0.499\\nsamples = 302\\nvalue = [159, 143]'),\n",
              " Text(994.9423728813559, 222.38181818181818, 'gini = 0.378\\nsamples = 83\\nvalue = [62, 21]'),\n",
              " Text(1010.0745762711864, 222.38181818181818, 'X[0] <= 50.5\\ngini = 0.493\\nsamples = 219\\nvalue = [97, 122]'),\n",
              " Text(1002.5084745762712, 172.96363636363634, 'X[0] <= 42.5\\ngini = 0.476\\nsamples = 161\\nvalue = [63, 98]'),\n",
              " Text(994.9423728813559, 123.54545454545456, 'X[1] <= 180927.0\\ngini = 0.492\\nsamples = 101\\nvalue = [44, 57]'),\n",
              " Text(987.3762711864406, 74.12727272727273, 'gini = 0.495\\nsamples = 51\\nvalue = [23, 28]'),\n",
              " Text(1002.5084745762712, 74.12727272727273, 'gini = 0.487\\nsamples = 50\\nvalue = [21, 29]'),\n",
              " Text(1010.0745762711864, 123.54545454545456, 'gini = 0.433\\nsamples = 60\\nvalue = [19, 41]'),\n",
              " Text(1017.6406779661016, 172.96363636363634, 'gini = 0.485\\nsamples = 58\\nvalue = [34, 24]'),\n",
              " Text(1055.471186440678, 271.8, 'X[9] <= 8.5\\ngini = 0.409\\nsamples = 339\\nvalue = [242, 97]'),\n",
              " Text(1040.3389830508474, 222.38181818181818, 'X[1] <= 216944.0\\ngini = 0.293\\nsamples = 191\\nvalue = [157, 34]'),\n",
              " Text(1032.7728813559322, 172.96363636363634, 'X[1] <= 127906.5\\ngini = 0.337\\nsamples = 135\\nvalue = [106, 29]'),\n",
              " Text(1025.206779661017, 123.54545454545456, 'gini = 0.242\\nsamples = 64\\nvalue = [55, 9]'),\n",
              " Text(1040.3389830508474, 123.54545454545456, 'gini = 0.405\\nsamples = 71\\nvalue = [51, 20]'),\n",
              " Text(1047.9050847457627, 172.96363636363634, 'gini = 0.163\\nsamples = 56\\nvalue = [51, 5]'),\n",
              " Text(1070.6033898305084, 222.38181818181818, 'X[2] <= 9.5\\ngini = 0.489\\nsamples = 148\\nvalue = [85, 63]'),\n",
              " Text(1063.0372881355931, 172.96363636363634, 'gini = 0.432\\nsamples = 73\\nvalue = [50, 23]'),\n",
              " Text(1078.1694915254236, 172.96363636363634, 'gini = 0.498\\nsamples = 75\\nvalue = [35, 40]'),\n",
              " Text(1100.8677966101695, 321.21818181818185, 'X[2] <= 13.5\\ngini = 0.411\\nsamples = 260\\nvalue = [75, 185]'),\n",
              " Text(1093.3016949152543, 271.8, 'X[1] <= 100781.5\\ngini = 0.459\\nsamples = 179\\nvalue = [64, 115]'),\n",
              " Text(1085.7355932203388, 222.38181818181818, 'gini = 0.499\\nsamples = 50\\nvalue = [24, 26]'),\n",
              " Text(1100.8677966101695, 222.38181818181818, 'X[1] <= 217883.0\\ngini = 0.428\\nsamples = 129\\nvalue = [40, 89]'),\n",
              " Text(1093.3016949152543, 172.96363636363634, 'gini = 0.369\\nsamples = 78\\nvalue = [19, 59]'),\n",
              " Text(1108.4338983050848, 172.96363636363634, 'gini = 0.484\\nsamples = 51\\nvalue = [21, 30]'),\n",
              " Text(1108.4338983050848, 271.8, 'gini = 0.235\\nsamples = 81\\nvalue = [11, 70]'),\n",
              " Text(1087.6271186440677, 420.05454545454546, 'X[2] <= 10.5\\ngini = 0.055\\nsamples = 281\\nvalue = [8, 273]'),\n",
              " Text(1080.0610169491524, 370.6363636363636, 'gini = 0.153\\nsamples = 96\\nvalue = [8, 88]'),\n",
              " Text(1095.193220338983, 370.6363636363636, 'gini = 0.0\\nsamples = 185\\nvalue = [0, 185]')]"
            ]
          },
          "metadata": {},
          "execution_count": 41
        },
        {
          "output_type": "display_data",
          "data": {
            "image/png": "[encoded data removed]",
            "text/plain": [
              "<Figure size 1440x720 with 1 Axes>"
            ]
          },
          "metadata": {
            "needs_background": "light"
          }
        }
      ]
    },
    {
      "cell_type": "code",
      "metadata": {
        "id": "XFTqRhicOgQ-",
        "colab": {
          "base_uri": "https://localhost:8080/"
        },
        "outputId": "3f535662-40ea-4d60-9cb6-5244990ef856"
      },
      "source": [
        "\n",
        "clf_gini = DecisionTreeClassifier(criterion = \"gini\", random_state = 100, max_depth=3,min_samples_leaf=50,min_samples_split=50)  \n",
        "                                 \n",
        "                                 \n",
        "                                  \n",
        "                                  \n",
        "\n",
        "clf_gini.fit(X_train, y_train)\n",
        "\n",
        "\n",
        "print(clf_gini.score(X_test,y_test))\n"
      ],
      "execution_count": 42,
      "outputs": [
        {
          "output_type": "stream",
          "name": "stdout",
          "text": [
            "0.8393192617968837\n"
          ]
        }
      ]
    },
    {
      "cell_type": "code",
      "metadata": {
        "id": "_Q0NskC2OgQ-",
        "colab": {
          "base_uri": "https://localhost:8080/",
          "height": 835
        },
        "outputId": "9f7d7963-3d45-4753-ccc7-4f8bcdd637c6"
      },
      "source": [
        "\n",
        "plt.figure(figsize=(20,10))\n",
        "tree.plot_tree(clf_gini,filled=True)\n",
        "\n",
        "\n",
        "\n",
        "\n",
        "\n",
        "\n"
      ],
      "execution_count": 43,
      "outputs": [
        {
          "output_type": "execute_result",
          "data": {
            "text/plain": [
              "[Text(558.0, 475.65000000000003, 'X[10] <= 0.5\\ngini = 0.377\\nsamples = 21113\\nvalue = [15787, 5326]'),\n",
              " Text(279.0, 339.75, 'X[2] <= 12.5\\ngini = 0.497\\nsamples = 8825\\nvalue = [4768, 4057]'),\n",
              " Text(139.5, 203.85000000000002, 'X[3] <= 5095.5\\ngini = 0.449\\nsamples = 6177\\nvalue = [4074, 2103]'),\n",
              " Text(69.75, 67.94999999999999, 'gini = 0.425\\nsamples = 5860\\nvalue = [4068, 1792]'),\n",
              " Text(209.25, 67.94999999999999, 'gini = 0.037\\nsamples = 317\\nvalue = [6, 311]'),\n",
              " Text(418.5, 203.85000000000002, 'X[3] <= 5095.5\\ngini = 0.387\\nsamples = 2648\\nvalue = [694, 1954]'),\n",
              " Text(348.75, 67.94999999999999, 'gini = 0.43\\nsamples = 2216\\nvalue = [693, 1523]'),\n",
              " Text(488.25, 67.94999999999999, 'gini = 0.005\\nsamples = 432\\nvalue = [1, 431]'),\n",
              " Text(837.0, 339.75, 'X[3] <= 7073.5\\ngini = 0.185\\nsamples = 12288\\nvalue = [11019, 1269]'),\n",
              " Text(697.5, 203.85000000000002, 'X[10] <= 4.5\\ngini = 0.152\\nsamples = 12007\\nvalue = [11011, 996]'),\n",
              " Text(627.75, 67.94999999999999, 'gini = 0.098\\nsamples = 11106\\nvalue = [10535, 571]'),\n",
              " Text(767.25, 67.94999999999999, 'gini = 0.498\\nsamples = 901\\nvalue = [476, 425]'),\n",
              " Text(976.5, 203.85000000000002, 'X[2] <= 10.5\\ngini = 0.055\\nsamples = 281\\nvalue = [8, 273]'),\n",
              " Text(906.75, 67.94999999999999, 'gini = 0.153\\nsamples = 96\\nvalue = [8, 88]'),\n",
              " Text(1046.25, 67.94999999999999, 'gini = 0.0\\nsamples = 185\\nvalue = [0, 185]')]"
            ]
          },
          "metadata": {},
          "execution_count": 43
        },
        {
          "output_type": "display_data",
          "data": {
            "image/png": "[encoded data removed]",
            "text/plain": [
              "<Figure size 1440x720 with 1 Axes>"
            ]
          },
          "metadata": {
            "needs_background": "light"
          }
        }
      ]
    },
    {
      "cell_type": "code",
      "metadata": {
        "id": "RqUiFwc4OgQ-",
        "colab": {
          "base_uri": "https://localhost:8080/"
        },
        "outputId": "b883d166-02db-485e-95a0-707009133780"
      },
      "source": [
        "\n",
        "y_pred =  clf_gini.predict(X_test)\n",
        "\n",
        "print(classification_report(y_test, y_pred))"
      ],
      "execution_count": 44,
      "outputs": [
        {
          "output_type": "stream",
          "name": "stdout",
          "text": [
            "              precision    recall  f1-score   support\n",
            "\n",
            "           0       0.85      0.96      0.90      6867\n",
            "           1       0.77      0.47      0.59      2182\n",
            "\n",
            "    accuracy                           0.84      9049\n",
            "   macro avg       0.81      0.71      0.74      9049\n",
            "weighted avg       0.83      0.84      0.82      9049\n",
            "\n"
          ]
        }
      ]
    },
    {
      "cell_type": "code",
      "metadata": {
        "id": "cYgFnKtFOgQ_",
        "colab": {
          "base_uri": "https://localhost:8080/",
          "height": 331
        },
        "outputId": "b322affe-0188-419c-fc10-1671b2bf5c93"
      },
      "source": [
        "\n",
        "print(confusion_matrix(y_test,y_pred))\n",
        "\n",
        "\n",
        "plot_confusion_matrix(clf_gini,X_test, y_test)"
      ],
      "execution_count": 45,
      "outputs": [
        {
          "output_type": "stream",
          "name": "stdout",
          "text": [
            "[[6564  303]\n",
            " [1151 1031]]\n"
          ]
        },
        {
          "output_type": "execute_result",
          "data": {
            "text/plain": [
              "<sklearn.metrics._plot.confusion_matrix.ConfusionMatrixDisplay at 0x7efd2075bc50>"
            ]
          },
          "metadata": {},
          "execution_count": 45
        },
        {
          "output_type": "display_data",
          "data": {
            "image/png": "[encoded data removed]",
            "text/plain": [
              "<Figure size 432x288 with 2 Axes>"
            ]
          },
          "metadata": {
            "needs_background": "light"
          }
        }
      ]
    }
  ]
}